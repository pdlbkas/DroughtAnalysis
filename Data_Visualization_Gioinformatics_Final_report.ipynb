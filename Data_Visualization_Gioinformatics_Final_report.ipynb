{
 "cells": [
  {
   "cell_type": "code",
   "execution_count": 582,
   "metadata": {},
   "outputs": [],
   "source": [
    "#importing required libraries for data handling and visualization\n",
    "import pandas as pd\n",
    "import matplotlib.pyplot as plt\n",
    "import seaborn as sns"
   ]
  },
  {
   "cell_type": "code",
   "execution_count": null,
   "metadata": {},
   "outputs": [],
   "source": [
    "#Analysis of NDVI and precipitation data of the 2018"
   ]
  },
  {
   "cell_type": "code",
   "execution_count": 583,
   "metadata": {},
   "outputs": [],
   "source": [
    "#Loading data from the directory directly  \n",
    "NDVI_vs_PRECIP_2018 = pd.read_csv('C:/Users/Bhuwan Acharya/Desktop/Geoinformatics_to_send_professor/2018/2018_ROI_NDVI_PRECIP.csv')"
   ]
  },
  {
   "cell_type": "code",
   "execution_count": 586,
   "metadata": {},
   "outputs": [
    {
     "data": {
      "text/html": [
       "<div>\n",
       "<style scoped>\n",
       "    .dataframe tbody tr th:only-of-type {\n",
       "        vertical-align: middle;\n",
       "    }\n",
       "\n",
       "    .dataframe tbody tr th {\n",
       "        vertical-align: top;\n",
       "    }\n",
       "\n",
       "    .dataframe thead th {\n",
       "        text-align: right;\n",
       "    }\n",
       "</style>\n",
       "<table border=\"1\" class=\"dataframe\">\n",
       "  <thead>\n",
       "    <tr style=\"text-align: right;\">\n",
       "      <th></th>\n",
       "      <th>id</th>\n",
       "      <th>NDVI</th>\n",
       "      <th>Precipitation</th>\n",
       "    </tr>\n",
       "  </thead>\n",
       "  <tbody>\n",
       "    <tr>\n",
       "      <td>0</td>\n",
       "      <td>1</td>\n",
       "      <td>0.777684</td>\n",
       "      <td>792.488253</td>\n",
       "    </tr>\n",
       "    <tr>\n",
       "      <td>1</td>\n",
       "      <td>3</td>\n",
       "      <td>0.780277</td>\n",
       "      <td>792.940746</td>\n",
       "    </tr>\n",
       "    <tr>\n",
       "      <td>2</td>\n",
       "      <td>14</td>\n",
       "      <td>0.829883</td>\n",
       "      <td>790.113282</td>\n",
       "    </tr>\n",
       "    <tr>\n",
       "      <td>3</td>\n",
       "      <td>17</td>\n",
       "      <td>0.827680</td>\n",
       "      <td>793.031209</td>\n",
       "    </tr>\n",
       "    <tr>\n",
       "      <td>4</td>\n",
       "      <td>23</td>\n",
       "      <td>0.146516</td>\n",
       "      <td>793.001960</td>\n",
       "    </tr>\n",
       "    <tr>\n",
       "      <td>5</td>\n",
       "      <td>27</td>\n",
       "      <td>0.789954</td>\n",
       "      <td>791.664245</td>\n",
       "    </tr>\n",
       "    <tr>\n",
       "      <td>6</td>\n",
       "      <td>34</td>\n",
       "      <td>0.444825</td>\n",
       "      <td>790.331949</td>\n",
       "    </tr>\n",
       "    <tr>\n",
       "      <td>7</td>\n",
       "      <td>38</td>\n",
       "      <td>-0.041254</td>\n",
       "      <td>792.231501</td>\n",
       "    </tr>\n",
       "  </tbody>\n",
       "</table>\n",
       "</div>"
      ],
      "text/plain": [
       "   id      NDVI  Precipitation\n",
       "0   1  0.777684     792.488253\n",
       "1   3  0.780277     792.940746\n",
       "2  14  0.829883     790.113282\n",
       "3  17  0.827680     793.031209\n",
       "4  23  0.146516     793.001960\n",
       "5  27  0.789954     791.664245\n",
       "6  34  0.444825     790.331949\n",
       "7  38 -0.041254     792.231501"
      ]
     },
     "execution_count": 586,
     "metadata": {},
     "output_type": "execute_result"
    }
   ],
   "source": [
    "#Exploring the data set\n",
    "NDVI_vs_PRECIP_2018.head(8)"
   ]
  },
  {
   "cell_type": "code",
   "execution_count": 587,
   "metadata": {},
   "outputs": [],
   "source": [
    "# Renaming  the column with understandable name\n",
    "NDVI_vs_PRECIP_2018 = NDVI_vs_PRECIP_2018.rename(columns = {\"2018_NDVI_\" : \"NDVI\", \"2018_PRECI\" : \"Precipitation\"})"
   ]
  },
  {
   "cell_type": "code",
   "execution_count": 588,
   "metadata": {
    "scrolled": true
   },
   "outputs": [
    {
     "data": {
      "image/png": "[encoded data removed]",
      "text/plain": [
       "<Figure size 540x540 with 12 Axes>"
      ]
     },
     "metadata": {
      "needs_background": "light"
     },
     "output_type": "display_data"
    }
   ],
   "source": [
    "#Relationship between all the  data points are ploted\n",
    "Pairplot_NDVI_vs_PRECIP_2018 = sns.pairplot(NDVI_vs_PRECIP_2018)"
   ]
  },
  {
   "cell_type": "code",
   "execution_count": 589,
   "metadata": {},
   "outputs": [
    {
     "data": {
      "image/png": "[encoded data removed]",
      "text/plain": [
       "<Figure size 228.75x180 with 1 Axes>"
      ]
     },
     "metadata": {
      "needs_background": "light"
     },
     "output_type": "display_data"
    }
   ],
   "source": [
    "#plotting scatter plot to see the relation between NDVI and precipitation\n",
    "Scatterplot_NDVI_vs_PRECIP_2018 = sns.pairplot(NDVI_vs_PRECIP_2018,\n",
    "                 x_vars=[\"Precipitation\"],\n",
    "                 y_vars=[\"NDVI\"], hue = 'id',height=5, aspect=1.5)"
   ]
  },
  {
   "cell_type": "code",
   "execution_count": 590,
   "metadata": {},
   "outputs": [],
   "source": [
    "#Saving scatter plot in the required directory\n",
    "Scatterplot_NDVI_vs_PRECIP_2018.savefig(\"C:/Users/Bhuwan Acharya/Desktop/Geoinformatics_to_send_professor/Python_images/Scatterplot_NDVI_vs_PRECIP_2018.png\")"
   ]
  },
  {
   "cell_type": "code",
   "execution_count": 591,
   "metadata": {},
   "outputs": [
    {
     "data": {
      "image/png": "[encoded data removed]",
      "text/plain": [
       "<Figure size 180x180 with 1 Axes>"
      ]
     },
     "metadata": {
      "needs_background": "light"
     },
     "output_type": "display_data"
    }
   ],
   "source": [
    "# Regression line was drawn so that it can be seen how well the data is distributed and to know the relation is positive or negatively correlated\n",
    "Regression_NDVI_vs_PRECIP_2018 = sns.pairplot(NDVI_vs_PRECIP_2018,\n",
    "                  x_vars=[\"Precipitation\"],\n",
    "                  y_vars=[\"NDVI\"], kind=\"reg\",height=5, aspect=1.5)"
   ]
  },
  {
   "cell_type": "code",
   "execution_count": 501,
   "metadata": {},
   "outputs": [],
   "source": [
    "#Saving the regression image\n",
    "Regression_NDVI_vs_PRECIP_2018.savefig(\"C:/Users/Bhuwan Acharya/Desktop/Geoinformatics_to_send_professor/Python_images/Regression_NDVI_vs_PRECIP_2018.png\")"
   ]
  },
  {
   "cell_type": "code",
   "execution_count": 502,
   "metadata": {},
   "outputs": [],
   "source": [
    "#No need of id for the correlation between NDVI and Temperature\n",
    "NDVI_vs_PRECIP_2018 = NDVI_vs_PRECIP_2018.drop(['id'], axis=1)"
   ]
  },
  {
   "cell_type": "code",
   "execution_count": 503,
   "metadata": {},
   "outputs": [
    {
     "data": {
      "image/png": "[encoded data removed]",
      "text/plain": [
       "<Figure size 432x288 with 2 Axes>"
      ]
     },
     "metadata": {
      "needs_background": "light"
     },
     "output_type": "display_data"
    }
   ],
   "source": [
    "# Correlation is calculated and heatmap is drawn so that it looks better and can be easily understood\n",
    "Correlation_NDVI_vs_PRECIP_2018= sns.heatmap(NDVI_vs_PRECIP_2018.corr(), annot = True)"
   ]
  },
  {
   "cell_type": "code",
   "execution_count": 504,
   "metadata": {},
   "outputs": [],
   "source": [
    "Correlation_N_vd_P_2018 = NDVI_vs_PRECIP_2018.corr()"
   ]
  },
  {
   "cell_type": "code",
   "execution_count": 506,
   "metadata": {},
   "outputs": [],
   "source": [
    "Correlation_N_vd_P_2018.to_csv('C:/Users/Bhuwan Acharya/Desktop/Geoinformatics_to_send_professor/Correlation/correlation_NDVI_Precipitation_2018.csv')"
   ]
  },
  {
   "cell_type": "code",
   "execution_count": null,
   "metadata": {},
   "outputs": [],
   "source": [
    "#Analysis of NDVI and temperature of 2018"
   ]
  },
  {
   "cell_type": "code",
   "execution_count": 404,
   "metadata": {},
   "outputs": [],
   "source": [
    "NDVI_vs_TEMP_2018 = pd.read_csv('C:/Users/Bhuwan Acharya/Desktop/Geoinformatics_to_send_professor/2018/2018_ROI_NDVI_TEMP.csv')"
   ]
  },
  {
   "cell_type": "code",
   "execution_count": 405,
   "metadata": {},
   "outputs": [
    {
     "data": {
      "text/html": [
       "<div>\n",
       "<style scoped>\n",
       "    .dataframe tbody tr th:only-of-type {\n",
       "        vertical-align: middle;\n",
       "    }\n",
       "\n",
       "    .dataframe tbody tr th {\n",
       "        vertical-align: top;\n",
       "    }\n",
       "\n",
       "    .dataframe thead th {\n",
       "        text-align: right;\n",
       "    }\n",
       "</style>\n",
       "<table border=\"1\" class=\"dataframe\">\n",
       "  <thead>\n",
       "    <tr style=\"text-align: right;\">\n",
       "      <th></th>\n",
       "      <th>id</th>\n",
       "      <th>2018_NDVI_</th>\n",
       "      <th>2018_TEMP_</th>\n",
       "    </tr>\n",
       "  </thead>\n",
       "  <tbody>\n",
       "    <tr>\n",
       "      <td>0</td>\n",
       "      <td>1</td>\n",
       "      <td>0.777684</td>\n",
       "      <td>11.202352</td>\n",
       "    </tr>\n",
       "    <tr>\n",
       "      <td>1</td>\n",
       "      <td>3</td>\n",
       "      <td>0.780277</td>\n",
       "      <td>11.172970</td>\n",
       "    </tr>\n",
       "    <tr>\n",
       "      <td>2</td>\n",
       "      <td>14</td>\n",
       "      <td>0.829883</td>\n",
       "      <td>11.164732</td>\n",
       "    </tr>\n",
       "    <tr>\n",
       "      <td>3</td>\n",
       "      <td>17</td>\n",
       "      <td>0.827680</td>\n",
       "      <td>11.179686</td>\n",
       "    </tr>\n",
       "    <tr>\n",
       "      <td>4</td>\n",
       "      <td>23</td>\n",
       "      <td>0.146516</td>\n",
       "      <td>11.177724</td>\n",
       "    </tr>\n",
       "  </tbody>\n",
       "</table>\n",
       "</div>"
      ],
      "text/plain": [
       "   id  2018_NDVI_  2018_TEMP_\n",
       "0   1    0.777684   11.202352\n",
       "1   3    0.780277   11.172970\n",
       "2  14    0.829883   11.164732\n",
       "3  17    0.827680   11.179686\n",
       "4  23    0.146516   11.177724"
      ]
     },
     "execution_count": 405,
     "metadata": {},
     "output_type": "execute_result"
    }
   ],
   "source": [
    "NDVI_vs_TEMP_2018.head()"
   ]
  },
  {
   "cell_type": "code",
   "execution_count": 406,
   "metadata": {},
   "outputs": [],
   "source": [
    "NDVI_vs_TEMP_2018 = NDVI_vs_TEMP_2018.rename(columns = {\"2018_NDVI_\" : \"NDVI\", \"2018_TEMP_\" : \"Temperature\"})"
   ]
  },
  {
   "cell_type": "code",
   "execution_count": 407,
   "metadata": {},
   "outputs": [
    {
     "data": {
      "text/html": [
       "<div>\n",
       "<style scoped>\n",
       "    .dataframe tbody tr th:only-of-type {\n",
       "        vertical-align: middle;\n",
       "    }\n",
       "\n",
       "    .dataframe tbody tr th {\n",
       "        vertical-align: top;\n",
       "    }\n",
       "\n",
       "    .dataframe thead th {\n",
       "        text-align: right;\n",
       "    }\n",
       "</style>\n",
       "<table border=\"1\" class=\"dataframe\">\n",
       "  <thead>\n",
       "    <tr style=\"text-align: right;\">\n",
       "      <th></th>\n",
       "      <th>id</th>\n",
       "      <th>NDVI</th>\n",
       "      <th>Temperature</th>\n",
       "    </tr>\n",
       "  </thead>\n",
       "  <tbody>\n",
       "    <tr>\n",
       "      <td>0</td>\n",
       "      <td>1</td>\n",
       "      <td>0.777684</td>\n",
       "      <td>11.202352</td>\n",
       "    </tr>\n",
       "    <tr>\n",
       "      <td>1</td>\n",
       "      <td>3</td>\n",
       "      <td>0.780277</td>\n",
       "      <td>11.172970</td>\n",
       "    </tr>\n",
       "    <tr>\n",
       "      <td>2</td>\n",
       "      <td>14</td>\n",
       "      <td>0.829883</td>\n",
       "      <td>11.164732</td>\n",
       "    </tr>\n",
       "    <tr>\n",
       "      <td>3</td>\n",
       "      <td>17</td>\n",
       "      <td>0.827680</td>\n",
       "      <td>11.179686</td>\n",
       "    </tr>\n",
       "    <tr>\n",
       "      <td>4</td>\n",
       "      <td>23</td>\n",
       "      <td>0.146516</td>\n",
       "      <td>11.177724</td>\n",
       "    </tr>\n",
       "    <tr>\n",
       "      <td>5</td>\n",
       "      <td>27</td>\n",
       "      <td>0.789954</td>\n",
       "      <td>11.183642</td>\n",
       "    </tr>\n",
       "    <tr>\n",
       "      <td>6</td>\n",
       "      <td>34</td>\n",
       "      <td>0.444825</td>\n",
       "      <td>11.194265</td>\n",
       "    </tr>\n",
       "    <tr>\n",
       "      <td>7</td>\n",
       "      <td>38</td>\n",
       "      <td>-0.041254</td>\n",
       "      <td>11.164550</td>\n",
       "    </tr>\n",
       "  </tbody>\n",
       "</table>\n",
       "</div>"
      ],
      "text/plain": [
       "   id      NDVI  Temperature\n",
       "0   1  0.777684    11.202352\n",
       "1   3  0.780277    11.172970\n",
       "2  14  0.829883    11.164732\n",
       "3  17  0.827680    11.179686\n",
       "4  23  0.146516    11.177724\n",
       "5  27  0.789954    11.183642\n",
       "6  34  0.444825    11.194265\n",
       "7  38 -0.041254    11.164550"
      ]
     },
     "execution_count": 407,
     "metadata": {},
     "output_type": "execute_result"
    }
   ],
   "source": [
    "NDVI_vs_TEMP_2018"
   ]
  },
  {
   "cell_type": "code",
   "execution_count": 408,
   "metadata": {},
   "outputs": [
    {
     "data": {
      "image/png": "[encoded data removed]",
      "text/plain": [
       "<Figure size 540x540 with 12 Axes>"
      ]
     },
     "metadata": {
      "needs_background": "light"
     },
     "output_type": "display_data"
    }
   ],
   "source": [
    "Pairplot_NDVI_vs_TEMP_2018 = sns.pairplot(NDVI_vs_TEMP_2018)"
   ]
  },
  {
   "cell_type": "code",
   "execution_count": 409,
   "metadata": {},
   "outputs": [
    {
     "data": {
      "image/png": "[encoded data removed]",
      "text/plain": [
       "<Figure size 228.75x180 with 1 Axes>"
      ]
     },
     "metadata": {
      "needs_background": "light"
     },
     "output_type": "display_data"
    }
   ],
   "source": [
    "Scatterplot_NDVI_vs_TEMP_2018 = sns.pairplot(NDVI_vs_TEMP_2018,\n",
    "                 x_vars=[\"Temperature\"],\n",
    "                 y_vars=[\"NDVI\"], hue = 'id',height=5, aspect=1.5)"
   ]
  },
  {
   "cell_type": "code",
   "execution_count": 410,
   "metadata": {},
   "outputs": [],
   "source": [
    "Scatterplot_NDVI_vs_TEMP_2018.savefig(\"C:/Users/Bhuwan Acharya/Desktop/Geoinformatics_to_send_professor/Python_images/Scatterplot_NDVI_vs_TEMP_2018.png\")"
   ]
  },
  {
   "cell_type": "code",
   "execution_count": 411,
   "metadata": {},
   "outputs": [
    {
     "data": {
      "image/png": "[encoded data removed]",
      "text/plain": [
       "<Figure size 180x180 with 1 Axes>"
      ]
     },
     "metadata": {
      "needs_background": "light"
     },
     "output_type": "display_data"
    }
   ],
   "source": [
    "regression_NDVI_vs_TEMP_2018 = sns.pairplot(NDVI_vs_TEMP_2018,\n",
    "                 x_vars=[\"Temperature\"],\n",
    "                 y_vars=[\"NDVI\"], kind = 'reg', height=5, aspect=1.5)"
   ]
  },
  {
   "cell_type": "code",
   "execution_count": 412,
   "metadata": {},
   "outputs": [],
   "source": [
    "regression_NDVI_vs_TEMP_2018.savefig(\"C:/Users/Bhuwan Acharya/Desktop/Geoinformatics_to_send_professor/Python_images/regression_NDVI_vs_TEMP_2018.png\")"
   ]
  },
  {
   "cell_type": "code",
   "execution_count": 413,
   "metadata": {},
   "outputs": [],
   "source": [
    "NDVI_vs_TEMP_2018 = NDVI_vs_TEMP_2018.drop(['id'], axis=1)"
   ]
  },
  {
   "cell_type": "code",
   "execution_count": 414,
   "metadata": {
    "scrolled": true
   },
   "outputs": [
    {
     "data": {
      "image/png": "[encoded data removed]",
      "text/plain": [
       "<Figure size 432x288 with 2 Axes>"
      ]
     },
     "metadata": {
      "needs_background": "light"
     },
     "output_type": "display_data"
    }
   ],
   "source": [
    "Correlation_NDVI_vs_TEMP_2018= sns.heatmap(NDVI_vs_TEMP_2018.corr(), annot = True)"
   ]
  },
  {
   "cell_type": "code",
   "execution_count": 507,
   "metadata": {},
   "outputs": [],
   "source": [
    "Correlation_N_vd_T_2018 = NDVI_vs_TEMP_2018.corr()"
   ]
  },
  {
   "cell_type": "code",
   "execution_count": 508,
   "metadata": {},
   "outputs": [],
   "source": [
    "Correlation_N_vd_T_2018.to_csv('C:/Users/Bhuwan Acharya/Desktop/Geoinformatics_to_send_professor/Correlation/correlation_NDVI_Temperature_2018.csv')"
   ]
  },
  {
   "cell_type": "code",
   "execution_count": null,
   "metadata": {},
   "outputs": [],
   "source": [
    "#Analysis of precipitation and temperature of 2018"
   ]
  },
  {
   "cell_type": "code",
   "execution_count": 784,
   "metadata": {},
   "outputs": [],
   "source": [
    "PRECIP_vs_TEMP_2018 = pd.read_csv('C:/Users/Bhuwan Acharya/Desktop/Geoinformatics_to_send_professor/2018/2018_ROI_TEMP_PRECIP.csv')"
   ]
  },
  {
   "cell_type": "code",
   "execution_count": 785,
   "metadata": {},
   "outputs": [
    {
     "data": {
      "text/html": [
       "<div>\n",
       "<style scoped>\n",
       "    .dataframe tbody tr th:only-of-type {\n",
       "        vertical-align: middle;\n",
       "    }\n",
       "\n",
       "    .dataframe tbody tr th {\n",
       "        vertical-align: top;\n",
       "    }\n",
       "\n",
       "    .dataframe thead th {\n",
       "        text-align: right;\n",
       "    }\n",
       "</style>\n",
       "<table border=\"1\" class=\"dataframe\">\n",
       "  <thead>\n",
       "    <tr style=\"text-align: right;\">\n",
       "      <th></th>\n",
       "      <th>id</th>\n",
       "      <th>2018_PRECI</th>\n",
       "      <th>2018_TEMP_</th>\n",
       "    </tr>\n",
       "  </thead>\n",
       "  <tbody>\n",
       "    <tr>\n",
       "      <td>0</td>\n",
       "      <td>1</td>\n",
       "      <td>792.488253</td>\n",
       "      <td>11.202352</td>\n",
       "    </tr>\n",
       "    <tr>\n",
       "      <td>1</td>\n",
       "      <td>3</td>\n",
       "      <td>792.940746</td>\n",
       "      <td>11.172970</td>\n",
       "    </tr>\n",
       "    <tr>\n",
       "      <td>2</td>\n",
       "      <td>14</td>\n",
       "      <td>790.113282</td>\n",
       "      <td>11.164732</td>\n",
       "    </tr>\n",
       "    <tr>\n",
       "      <td>3</td>\n",
       "      <td>17</td>\n",
       "      <td>793.031209</td>\n",
       "      <td>11.179686</td>\n",
       "    </tr>\n",
       "    <tr>\n",
       "      <td>4</td>\n",
       "      <td>23</td>\n",
       "      <td>793.001960</td>\n",
       "      <td>11.177724</td>\n",
       "    </tr>\n",
       "  </tbody>\n",
       "</table>\n",
       "</div>"
      ],
      "text/plain": [
       "   id  2018_PRECI  2018_TEMP_\n",
       "0   1  792.488253   11.202352\n",
       "1   3  792.940746   11.172970\n",
       "2  14  790.113282   11.164732\n",
       "3  17  793.031209   11.179686\n",
       "4  23  793.001960   11.177724"
      ]
     },
     "execution_count": 785,
     "metadata": {},
     "output_type": "execute_result"
    }
   ],
   "source": [
    "PRECIP_vs_TEMP_2018.head()"
   ]
  },
  {
   "cell_type": "code",
   "execution_count": 786,
   "metadata": {},
   "outputs": [],
   "source": [
    "PRECIP_vs_TEMP_2018 = PRECIP_vs_TEMP_2018.rename(columns = {\"2018_PRECI\" : \"Precipitation\", \"2018_TEMP_\" : \"Temperature\"})"
   ]
  },
  {
   "cell_type": "code",
   "execution_count": 787,
   "metadata": {},
   "outputs": [
    {
     "data": {
      "text/html": [
       "<div>\n",
       "<style scoped>\n",
       "    .dataframe tbody tr th:only-of-type {\n",
       "        vertical-align: middle;\n",
       "    }\n",
       "\n",
       "    .dataframe tbody tr th {\n",
       "        vertical-align: top;\n",
       "    }\n",
       "\n",
       "    .dataframe thead th {\n",
       "        text-align: right;\n",
       "    }\n",
       "</style>\n",
       "<table border=\"1\" class=\"dataframe\">\n",
       "  <thead>\n",
       "    <tr style=\"text-align: right;\">\n",
       "      <th></th>\n",
       "      <th>id</th>\n",
       "      <th>Precipitation</th>\n",
       "      <th>Temperature</th>\n",
       "    </tr>\n",
       "  </thead>\n",
       "  <tbody>\n",
       "    <tr>\n",
       "      <td>0</td>\n",
       "      <td>1</td>\n",
       "      <td>792.488253</td>\n",
       "      <td>11.202352</td>\n",
       "    </tr>\n",
       "    <tr>\n",
       "      <td>1</td>\n",
       "      <td>3</td>\n",
       "      <td>792.940746</td>\n",
       "      <td>11.172970</td>\n",
       "    </tr>\n",
       "    <tr>\n",
       "      <td>2</td>\n",
       "      <td>14</td>\n",
       "      <td>790.113282</td>\n",
       "      <td>11.164732</td>\n",
       "    </tr>\n",
       "    <tr>\n",
       "      <td>3</td>\n",
       "      <td>17</td>\n",
       "      <td>793.031209</td>\n",
       "      <td>11.179686</td>\n",
       "    </tr>\n",
       "    <tr>\n",
       "      <td>4</td>\n",
       "      <td>23</td>\n",
       "      <td>793.001960</td>\n",
       "      <td>11.177724</td>\n",
       "    </tr>\n",
       "    <tr>\n",
       "      <td>5</td>\n",
       "      <td>27</td>\n",
       "      <td>791.664245</td>\n",
       "      <td>11.183642</td>\n",
       "    </tr>\n",
       "    <tr>\n",
       "      <td>6</td>\n",
       "      <td>34</td>\n",
       "      <td>790.331949</td>\n",
       "      <td>11.194265</td>\n",
       "    </tr>\n",
       "    <tr>\n",
       "      <td>7</td>\n",
       "      <td>38</td>\n",
       "      <td>792.231501</td>\n",
       "      <td>11.164550</td>\n",
       "    </tr>\n",
       "  </tbody>\n",
       "</table>\n",
       "</div>"
      ],
      "text/plain": [
       "   id  Precipitation  Temperature\n",
       "0   1     792.488253    11.202352\n",
       "1   3     792.940746    11.172970\n",
       "2  14     790.113282    11.164732\n",
       "3  17     793.031209    11.179686\n",
       "4  23     793.001960    11.177724\n",
       "5  27     791.664245    11.183642\n",
       "6  34     790.331949    11.194265\n",
       "7  38     792.231501    11.164550"
      ]
     },
     "execution_count": 787,
     "metadata": {},
     "output_type": "execute_result"
    }
   ],
   "source": [
    "PRECIP_vs_TEMP_2018"
   ]
  },
  {
   "cell_type": "code",
   "execution_count": 788,
   "metadata": {},
   "outputs": [
    {
     "data": {
      "image/png": "[encoded data removed]",
      "text/plain": [
       "<Figure size 540x540 with 12 Axes>"
      ]
     },
     "metadata": {
      "needs_background": "light"
     },
     "output_type": "display_data"
    }
   ],
   "source": [
    "Pairplot_PRECIP_vs_TEMP_2018 = sns.pairplot(PRECIP_vs_TEMP_2018)"
   ]
  },
  {
   "cell_type": "code",
   "execution_count": 789,
   "metadata": {},
   "outputs": [
    {
     "data": {
      "image/png": "[encoded data removed]",
      "text/plain": [
       "<Figure size 588.75x360 with 1 Axes>"
      ]
     },
     "metadata": {
      "needs_background": "light"
     },
     "output_type": "display_data"
    }
   ],
   "source": [
    "Scatterplot_PRECIP_vs_TEMP_2018 = sns.pairplot(PRECIP_vs_TEMP_2018,\n",
    "                 x_vars=[\"Temperature\"],\n",
    "                 y_vars=[\"Precipitation\"], hue = 'id', height=5, aspect=1.5)"
   ]
  },
  {
   "cell_type": "code",
   "execution_count": 790,
   "metadata": {},
   "outputs": [],
   "source": [
    "Scatterplot_PRECIP_vs_TEMP_2018.savefig(\"C:/Users/Bhuwan Acharya/Desktop/Geoinformatics_to_send_professor/Python_images/Scatterplot_PRECIP_vs_TEMP_2018.png\")"
   ]
  },
  {
   "cell_type": "code",
   "execution_count": 791,
   "metadata": {},
   "outputs": [
    {
     "data": {
      "image/png": "[encoded data removed]",
      "text/plain": [
       "<Figure size 540x360 with 1 Axes>"
      ]
     },
     "metadata": {
      "needs_background": "light"
     },
     "output_type": "display_data"
    }
   ],
   "source": [
    "regression_PRECIP_vs_TEMP_2018 = sns.pairplot(PRECIP_vs_TEMP_2018,\n",
    "                 x_vars=[\"Temperature\"],\n",
    "                 y_vars=[\"Precipitation\"], kind = 'reg', height=5, aspect=1.5)"
   ]
  },
  {
   "cell_type": "code",
   "execution_count": 792,
   "metadata": {},
   "outputs": [],
   "source": [
    "regression_PRECIP_vs_TEMP_2018.savefig(\"C:/Users/Bhuwan Acharya/Desktop/Geoinformatics_to_send_professor/Python_images/regression_PRECIP_vs_TEMP_2018.png\")"
   ]
  },
  {
   "cell_type": "code",
   "execution_count": 793,
   "metadata": {},
   "outputs": [],
   "source": [
    "PRECIP_vs_TEMP_2018 = PRECIP_vs_TEMP_2018.drop(['id'], axis=1)"
   ]
  },
  {
   "cell_type": "code",
   "execution_count": 794,
   "metadata": {},
   "outputs": [
    {
     "data": {
      "image/png": "[encoded data removed]",
      "text/plain": [
       "<Figure size 432x288 with 2 Axes>"
      ]
     },
     "metadata": {
      "needs_background": "light"
     },
     "output_type": "display_data"
    }
   ],
   "source": [
    "Correlation_PRECIP_vs_TEMP_2018= sns.heatmap(PRECIP_vs_TEMP_2018.corr(), annot = True)"
   ]
  },
  {
   "cell_type": "code",
   "execution_count": 509,
   "metadata": {},
   "outputs": [],
   "source": [
    "Correlation_P_vd_T_2018 = PRECIP_vs_TEMP_2018.corr()"
   ]
  },
  {
   "cell_type": "code",
   "execution_count": 510,
   "metadata": {},
   "outputs": [],
   "source": [
    "Correlation_N_vd_T_2018.to_csv('C:/Users/Bhuwan Acharya/Desktop/Geoinformatics_to_send_professor/Correlation/correlation_Precipitation_Temperature_2018.csv')"
   ]
  },
  {
   "cell_type": "code",
   "execution_count": 427,
   "metadata": {},
   "outputs": [],
   "source": [
    "#Comparision of NDVI and precipitation of all three years 2016,2017 and 2018"
   ]
  },
  {
   "cell_type": "code",
   "execution_count": 527,
   "metadata": {},
   "outputs": [],
   "source": [
    "NDVI_vs_PRECIP_2018 = pd.read_csv('C:/Users/Bhuwan Acharya/Desktop/Geoinformatics_to_send_professor/2018/2018_ROI_NDVI_PRECIP.csv')\n",
    "#Data has been added for distinguishing different years data\n",
    "NDVI_vs_PRECIP_with_year_2018 = NDVI_vs_PRECIP_2018.assign(year = ['2018','2018','2018','2018','2018','2018','2018','2018'])\n",
    "NDVI_vs_PRECIP_with_year_2018=NDVI_vs_PRECIP_with_year_2018.rename(columns = {\"2018_NDVI_\" : \"NDVI\", \"2018_PRECI\" : \"Precipitation\"})\n",
    "\n",
    "NDVI_vs_PRECIP_2017 = pd.read_csv('C:/Users/Bhuwan Acharya/Desktop/Geoinformatics_to_send_professor/2017/2017_ROI_NDVI_PRECIP.csv')\n",
    "NDVI_vs_PRECIP_with_year_2017 = NDVI_vs_PRECIP_2017.assign(year = ['2017','2017','2017','2017','2017','2017','2017','2017'])\n",
    "NDVI_vs_PRECIP_with_year_2017=NDVI_vs_PRECIP_with_year_2017.rename(columns = {\"2017_NDVI_\" : \"NDVI\", \"2017_PRECI\" : \"Precipitation\"})\n",
    "\n",
    "NDVI_vs_PRECIP_2016 = pd.read_csv('C:/Users/Bhuwan Acharya/Desktop/Geoinformatics_to_send_professor/2016/2016_ROI_NDVI_PRECIP.csv')\n",
    "NDVI_vs_PRECIP_with_year_2016 = NDVI_vs_PRECIP_2016.assign(year = ['2016','2016','2016','2016','2016','2016','2016','2016'])\n",
    "NDVI_vs_PRECIP_with_year_2016=NDVI_vs_PRECIP_with_year_2016.rename(columns = {\"2016_NDVI_\" : \"NDVI\", \"2016_PRECI\" : \"Precipitation\"})"
   ]
  },
  {
   "cell_type": "code",
   "execution_count": 528,
   "metadata": {},
   "outputs": [
    {
     "data": {
      "text/html": [
       "<div>\n",
       "<style scoped>\n",
       "    .dataframe tbody tr th:only-of-type {\n",
       "        vertical-align: middle;\n",
       "    }\n",
       "\n",
       "    .dataframe tbody tr th {\n",
       "        vertical-align: top;\n",
       "    }\n",
       "\n",
       "    .dataframe thead th {\n",
       "        text-align: right;\n",
       "    }\n",
       "</style>\n",
       "<table border=\"1\" class=\"dataframe\">\n",
       "  <thead>\n",
       "    <tr style=\"text-align: right;\">\n",
       "      <th></th>\n",
       "      <th>id</th>\n",
       "      <th>NDVI</th>\n",
       "      <th>Precipitation</th>\n",
       "      <th>year</th>\n",
       "    </tr>\n",
       "  </thead>\n",
       "  <tbody>\n",
       "    <tr>\n",
       "      <td>0</td>\n",
       "      <td>1</td>\n",
       "      <td>0.777684</td>\n",
       "      <td>792.488253</td>\n",
       "      <td>2018</td>\n",
       "    </tr>\n",
       "    <tr>\n",
       "      <td>1</td>\n",
       "      <td>3</td>\n",
       "      <td>0.780277</td>\n",
       "      <td>792.940746</td>\n",
       "      <td>2018</td>\n",
       "    </tr>\n",
       "    <tr>\n",
       "      <td>2</td>\n",
       "      <td>14</td>\n",
       "      <td>0.829883</td>\n",
       "      <td>790.113282</td>\n",
       "      <td>2018</td>\n",
       "    </tr>\n",
       "    <tr>\n",
       "      <td>3</td>\n",
       "      <td>17</td>\n",
       "      <td>0.827680</td>\n",
       "      <td>793.031209</td>\n",
       "      <td>2018</td>\n",
       "    </tr>\n",
       "    <tr>\n",
       "      <td>4</td>\n",
       "      <td>23</td>\n",
       "      <td>0.146516</td>\n",
       "      <td>793.001960</td>\n",
       "      <td>2018</td>\n",
       "    </tr>\n",
       "    <tr>\n",
       "      <td>5</td>\n",
       "      <td>27</td>\n",
       "      <td>0.789954</td>\n",
       "      <td>791.664245</td>\n",
       "      <td>2018</td>\n",
       "    </tr>\n",
       "    <tr>\n",
       "      <td>6</td>\n",
       "      <td>34</td>\n",
       "      <td>0.444825</td>\n",
       "      <td>790.331949</td>\n",
       "      <td>2018</td>\n",
       "    </tr>\n",
       "    <tr>\n",
       "      <td>7</td>\n",
       "      <td>38</td>\n",
       "      <td>-0.041254</td>\n",
       "      <td>792.231501</td>\n",
       "      <td>2018</td>\n",
       "    </tr>\n",
       "  </tbody>\n",
       "</table>\n",
       "</div>"
      ],
      "text/plain": [
       "   id      NDVI  Precipitation  year\n",
       "0   1  0.777684     792.488253  2018\n",
       "1   3  0.780277     792.940746  2018\n",
       "2  14  0.829883     790.113282  2018\n",
       "3  17  0.827680     793.031209  2018\n",
       "4  23  0.146516     793.001960  2018\n",
       "5  27  0.789954     791.664245  2018\n",
       "6  34  0.444825     790.331949  2018\n",
       "7  38 -0.041254     792.231501  2018"
      ]
     },
     "execution_count": 528,
     "metadata": {},
     "output_type": "execute_result"
    }
   ],
   "source": [
    "NDVI_vs_PRECIP_with_year_2018"
   ]
  },
  {
   "cell_type": "code",
   "execution_count": 529,
   "metadata": {},
   "outputs": [
    {
     "data": {
      "text/html": [
       "<div>\n",
       "<style scoped>\n",
       "    .dataframe tbody tr th:only-of-type {\n",
       "        vertical-align: middle;\n",
       "    }\n",
       "\n",
       "    .dataframe tbody tr th {\n",
       "        vertical-align: top;\n",
       "    }\n",
       "\n",
       "    .dataframe thead th {\n",
       "        text-align: right;\n",
       "    }\n",
       "</style>\n",
       "<table border=\"1\" class=\"dataframe\">\n",
       "  <thead>\n",
       "    <tr style=\"text-align: right;\">\n",
       "      <th></th>\n",
       "      <th>id</th>\n",
       "      <th>NDVI</th>\n",
       "      <th>Precipitation</th>\n",
       "      <th>year</th>\n",
       "    </tr>\n",
       "  </thead>\n",
       "  <tbody>\n",
       "    <tr>\n",
       "      <td>0</td>\n",
       "      <td>1</td>\n",
       "      <td>0.807574</td>\n",
       "      <td>809.598460</td>\n",
       "      <td>2017</td>\n",
       "    </tr>\n",
       "    <tr>\n",
       "      <td>1</td>\n",
       "      <td>3</td>\n",
       "      <td>0.179608</td>\n",
       "      <td>867.201708</td>\n",
       "      <td>2017</td>\n",
       "    </tr>\n",
       "    <tr>\n",
       "      <td>2</td>\n",
       "      <td>14</td>\n",
       "      <td>0.850816</td>\n",
       "      <td>835.151957</td>\n",
       "      <td>2017</td>\n",
       "    </tr>\n",
       "    <tr>\n",
       "      <td>3</td>\n",
       "      <td>17</td>\n",
       "      <td>0.173824</td>\n",
       "      <td>859.635621</td>\n",
       "      <td>2017</td>\n",
       "    </tr>\n",
       "    <tr>\n",
       "      <td>4</td>\n",
       "      <td>23</td>\n",
       "      <td>0.855028</td>\n",
       "      <td>863.047832</td>\n",
       "      <td>2017</td>\n",
       "    </tr>\n",
       "    <tr>\n",
       "      <td>5</td>\n",
       "      <td>27</td>\n",
       "      <td>0.549809</td>\n",
       "      <td>831.205064</td>\n",
       "      <td>2017</td>\n",
       "    </tr>\n",
       "    <tr>\n",
       "      <td>6</td>\n",
       "      <td>34</td>\n",
       "      <td>0.456182</td>\n",
       "      <td>813.681060</td>\n",
       "      <td>2017</td>\n",
       "    </tr>\n",
       "    <tr>\n",
       "      <td>7</td>\n",
       "      <td>38</td>\n",
       "      <td>0.010162</td>\n",
       "      <td>855.164839</td>\n",
       "      <td>2017</td>\n",
       "    </tr>\n",
       "  </tbody>\n",
       "</table>\n",
       "</div>"
      ],
      "text/plain": [
       "   id      NDVI  Precipitation  year\n",
       "0   1  0.807574     809.598460  2017\n",
       "1   3  0.179608     867.201708  2017\n",
       "2  14  0.850816     835.151957  2017\n",
       "3  17  0.173824     859.635621  2017\n",
       "4  23  0.855028     863.047832  2017\n",
       "5  27  0.549809     831.205064  2017\n",
       "6  34  0.456182     813.681060  2017\n",
       "7  38  0.010162     855.164839  2017"
      ]
     },
     "execution_count": 529,
     "metadata": {},
     "output_type": "execute_result"
    }
   ],
   "source": [
    "NDVI_vs_PRECIP_with_year_2017"
   ]
  },
  {
   "cell_type": "code",
   "execution_count": 530,
   "metadata": {},
   "outputs": [
    {
     "data": {
      "text/html": [
       "<div>\n",
       "<style scoped>\n",
       "    .dataframe tbody tr th:only-of-type {\n",
       "        vertical-align: middle;\n",
       "    }\n",
       "\n",
       "    .dataframe tbody tr th {\n",
       "        vertical-align: top;\n",
       "    }\n",
       "\n",
       "    .dataframe thead th {\n",
       "        text-align: right;\n",
       "    }\n",
       "</style>\n",
       "<table border=\"1\" class=\"dataframe\">\n",
       "  <thead>\n",
       "    <tr style=\"text-align: right;\">\n",
       "      <th></th>\n",
       "      <th>id</th>\n",
       "      <th>NDVI</th>\n",
       "      <th>Precipitation</th>\n",
       "      <th>year</th>\n",
       "    </tr>\n",
       "  </thead>\n",
       "  <tbody>\n",
       "    <tr>\n",
       "      <td>0</td>\n",
       "      <td>1</td>\n",
       "      <td>0.739759</td>\n",
       "      <td>1011.446424</td>\n",
       "      <td>2016</td>\n",
       "    </tr>\n",
       "    <tr>\n",
       "      <td>1</td>\n",
       "      <td>3</td>\n",
       "      <td>0.150977</td>\n",
       "      <td>1046.879300</td>\n",
       "      <td>2016</td>\n",
       "    </tr>\n",
       "    <tr>\n",
       "      <td>2</td>\n",
       "      <td>14</td>\n",
       "      <td>0.821903</td>\n",
       "      <td>1026.570165</td>\n",
       "      <td>2016</td>\n",
       "    </tr>\n",
       "    <tr>\n",
       "      <td>3</td>\n",
       "      <td>17</td>\n",
       "      <td>0.734283</td>\n",
       "      <td>1042.059154</td>\n",
       "      <td>2016</td>\n",
       "    </tr>\n",
       "    <tr>\n",
       "      <td>4</td>\n",
       "      <td>23</td>\n",
       "      <td>0.796000</td>\n",
       "      <td>1044.223361</td>\n",
       "      <td>2016</td>\n",
       "    </tr>\n",
       "    <tr>\n",
       "      <td>5</td>\n",
       "      <td>27</td>\n",
       "      <td>0.750359</td>\n",
       "      <td>1024.547836</td>\n",
       "      <td>2016</td>\n",
       "    </tr>\n",
       "    <tr>\n",
       "      <td>6</td>\n",
       "      <td>34</td>\n",
       "      <td>0.430797</td>\n",
       "      <td>1014.282835</td>\n",
       "      <td>2016</td>\n",
       "    </tr>\n",
       "    <tr>\n",
       "      <td>7</td>\n",
       "      <td>38</td>\n",
       "      <td>0.019121</td>\n",
       "      <td>1039.297243</td>\n",
       "      <td>2016</td>\n",
       "    </tr>\n",
       "  </tbody>\n",
       "</table>\n",
       "</div>"
      ],
      "text/plain": [
       "   id      NDVI  Precipitation  year\n",
       "0   1  0.739759    1011.446424  2016\n",
       "1   3  0.150977    1046.879300  2016\n",
       "2  14  0.821903    1026.570165  2016\n",
       "3  17  0.734283    1042.059154  2016\n",
       "4  23  0.796000    1044.223361  2016\n",
       "5  27  0.750359    1024.547836  2016\n",
       "6  34  0.430797    1014.282835  2016\n",
       "7  38  0.019121    1039.297243  2016"
      ]
     },
     "execution_count": 530,
     "metadata": {},
     "output_type": "execute_result"
    }
   ],
   "source": [
    "NDVI_vs_PRECIP_with_year_2016"
   ]
  },
  {
   "cell_type": "code",
   "execution_count": 531,
   "metadata": {},
   "outputs": [],
   "source": [
    "#All the data of different years were added separately so they are appended for the further analysis\n",
    "Yearly_Precip_vs_NDVI = NDVI_vs_PRECIP_with_year_2016.append(NDVI_vs_PRECIP_with_year_2017).append(NDVI_vs_PRECIP_with_year_2018)"
   ]
  },
  {
   "cell_type": "code",
   "execution_count": 532,
   "metadata": {
    "scrolled": true
   },
   "outputs": [
    {
     "data": {
      "text/html": [
       "<div>\n",
       "<style scoped>\n",
       "    .dataframe tbody tr th:only-of-type {\n",
       "        vertical-align: middle;\n",
       "    }\n",
       "\n",
       "    .dataframe tbody tr th {\n",
       "        vertical-align: top;\n",
       "    }\n",
       "\n",
       "    .dataframe thead th {\n",
       "        text-align: right;\n",
       "    }\n",
       "</style>\n",
       "<table border=\"1\" class=\"dataframe\">\n",
       "  <thead>\n",
       "    <tr style=\"text-align: right;\">\n",
       "      <th></th>\n",
       "      <th>id</th>\n",
       "      <th>NDVI</th>\n",
       "      <th>Precipitation</th>\n",
       "      <th>year</th>\n",
       "    </tr>\n",
       "  </thead>\n",
       "  <tbody>\n",
       "    <tr>\n",
       "      <td>0</td>\n",
       "      <td>1</td>\n",
       "      <td>0.739759</td>\n",
       "      <td>1011.446424</td>\n",
       "      <td>2016</td>\n",
       "    </tr>\n",
       "    <tr>\n",
       "      <td>1</td>\n",
       "      <td>3</td>\n",
       "      <td>0.150977</td>\n",
       "      <td>1046.879300</td>\n",
       "      <td>2016</td>\n",
       "    </tr>\n",
       "    <tr>\n",
       "      <td>2</td>\n",
       "      <td>14</td>\n",
       "      <td>0.821903</td>\n",
       "      <td>1026.570165</td>\n",
       "      <td>2016</td>\n",
       "    </tr>\n",
       "    <tr>\n",
       "      <td>3</td>\n",
       "      <td>17</td>\n",
       "      <td>0.734283</td>\n",
       "      <td>1042.059154</td>\n",
       "      <td>2016</td>\n",
       "    </tr>\n",
       "    <tr>\n",
       "      <td>4</td>\n",
       "      <td>23</td>\n",
       "      <td>0.796000</td>\n",
       "      <td>1044.223361</td>\n",
       "      <td>2016</td>\n",
       "    </tr>\n",
       "    <tr>\n",
       "      <td>5</td>\n",
       "      <td>27</td>\n",
       "      <td>0.750359</td>\n",
       "      <td>1024.547836</td>\n",
       "      <td>2016</td>\n",
       "    </tr>\n",
       "    <tr>\n",
       "      <td>6</td>\n",
       "      <td>34</td>\n",
       "      <td>0.430797</td>\n",
       "      <td>1014.282835</td>\n",
       "      <td>2016</td>\n",
       "    </tr>\n",
       "    <tr>\n",
       "      <td>7</td>\n",
       "      <td>38</td>\n",
       "      <td>0.019121</td>\n",
       "      <td>1039.297243</td>\n",
       "      <td>2016</td>\n",
       "    </tr>\n",
       "    <tr>\n",
       "      <td>0</td>\n",
       "      <td>1</td>\n",
       "      <td>0.807574</td>\n",
       "      <td>809.598460</td>\n",
       "      <td>2017</td>\n",
       "    </tr>\n",
       "    <tr>\n",
       "      <td>1</td>\n",
       "      <td>3</td>\n",
       "      <td>0.179608</td>\n",
       "      <td>867.201708</td>\n",
       "      <td>2017</td>\n",
       "    </tr>\n",
       "    <tr>\n",
       "      <td>2</td>\n",
       "      <td>14</td>\n",
       "      <td>0.850816</td>\n",
       "      <td>835.151957</td>\n",
       "      <td>2017</td>\n",
       "    </tr>\n",
       "    <tr>\n",
       "      <td>3</td>\n",
       "      <td>17</td>\n",
       "      <td>0.173824</td>\n",
       "      <td>859.635621</td>\n",
       "      <td>2017</td>\n",
       "    </tr>\n",
       "    <tr>\n",
       "      <td>4</td>\n",
       "      <td>23</td>\n",
       "      <td>0.855028</td>\n",
       "      <td>863.047832</td>\n",
       "      <td>2017</td>\n",
       "    </tr>\n",
       "    <tr>\n",
       "      <td>5</td>\n",
       "      <td>27</td>\n",
       "      <td>0.549809</td>\n",
       "      <td>831.205064</td>\n",
       "      <td>2017</td>\n",
       "    </tr>\n",
       "    <tr>\n",
       "      <td>6</td>\n",
       "      <td>34</td>\n",
       "      <td>0.456182</td>\n",
       "      <td>813.681060</td>\n",
       "      <td>2017</td>\n",
       "    </tr>\n",
       "    <tr>\n",
       "      <td>7</td>\n",
       "      <td>38</td>\n",
       "      <td>0.010162</td>\n",
       "      <td>855.164839</td>\n",
       "      <td>2017</td>\n",
       "    </tr>\n",
       "    <tr>\n",
       "      <td>0</td>\n",
       "      <td>1</td>\n",
       "      <td>0.777684</td>\n",
       "      <td>792.488253</td>\n",
       "      <td>2018</td>\n",
       "    </tr>\n",
       "    <tr>\n",
       "      <td>1</td>\n",
       "      <td>3</td>\n",
       "      <td>0.780277</td>\n",
       "      <td>792.940746</td>\n",
       "      <td>2018</td>\n",
       "    </tr>\n",
       "    <tr>\n",
       "      <td>2</td>\n",
       "      <td>14</td>\n",
       "      <td>0.829883</td>\n",
       "      <td>790.113282</td>\n",
       "      <td>2018</td>\n",
       "    </tr>\n",
       "    <tr>\n",
       "      <td>3</td>\n",
       "      <td>17</td>\n",
       "      <td>0.827680</td>\n",
       "      <td>793.031209</td>\n",
       "      <td>2018</td>\n",
       "    </tr>\n",
       "    <tr>\n",
       "      <td>4</td>\n",
       "      <td>23</td>\n",
       "      <td>0.146516</td>\n",
       "      <td>793.001960</td>\n",
       "      <td>2018</td>\n",
       "    </tr>\n",
       "    <tr>\n",
       "      <td>5</td>\n",
       "      <td>27</td>\n",
       "      <td>0.789954</td>\n",
       "      <td>791.664245</td>\n",
       "      <td>2018</td>\n",
       "    </tr>\n",
       "    <tr>\n",
       "      <td>6</td>\n",
       "      <td>34</td>\n",
       "      <td>0.444825</td>\n",
       "      <td>790.331949</td>\n",
       "      <td>2018</td>\n",
       "    </tr>\n",
       "    <tr>\n",
       "      <td>7</td>\n",
       "      <td>38</td>\n",
       "      <td>-0.041254</td>\n",
       "      <td>792.231501</td>\n",
       "      <td>2018</td>\n",
       "    </tr>\n",
       "  </tbody>\n",
       "</table>\n",
       "</div>"
      ],
      "text/plain": [
       "   id      NDVI  Precipitation  year\n",
       "0   1  0.739759    1011.446424  2016\n",
       "1   3  0.150977    1046.879300  2016\n",
       "2  14  0.821903    1026.570165  2016\n",
       "3  17  0.734283    1042.059154  2016\n",
       "4  23  0.796000    1044.223361  2016\n",
       "5  27  0.750359    1024.547836  2016\n",
       "6  34  0.430797    1014.282835  2016\n",
       "7  38  0.019121    1039.297243  2016\n",
       "0   1  0.807574     809.598460  2017\n",
       "1   3  0.179608     867.201708  2017\n",
       "2  14  0.850816     835.151957  2017\n",
       "3  17  0.173824     859.635621  2017\n",
       "4  23  0.855028     863.047832  2017\n",
       "5  27  0.549809     831.205064  2017\n",
       "6  34  0.456182     813.681060  2017\n",
       "7  38  0.010162     855.164839  2017\n",
       "0   1  0.777684     792.488253  2018\n",
       "1   3  0.780277     792.940746  2018\n",
       "2  14  0.829883     790.113282  2018\n",
       "3  17  0.827680     793.031209  2018\n",
       "4  23  0.146516     793.001960  2018\n",
       "5  27  0.789954     791.664245  2018\n",
       "6  34  0.444825     790.331949  2018\n",
       "7  38 -0.041254     792.231501  2018"
      ]
     },
     "execution_count": 532,
     "metadata": {},
     "output_type": "execute_result"
    }
   ],
   "source": [
    "Yearly_Precip_vs_NDVI "
   ]
  },
  {
   "cell_type": "code",
   "execution_count": 533,
   "metadata": {},
   "outputs": [],
   "source": [
    "Yearly_Precip_vs_NDVI = Yearly_Precip_vs_NDVI.drop(['id'], axis=1)"
   ]
  },
  {
   "cell_type": "code",
   "execution_count": 720,
   "metadata": {},
   "outputs": [
    {
     "data": {
      "image/png": "[encoded data removed]",
      "text/plain": [
       "<Figure size 601.375x360 with 1 Axes>"
      ]
     },
     "metadata": {
      "needs_background": "light"
     },
     "output_type": "display_data"
    }
   ],
   "source": [
    "scatterplot_Yearly_Precip_vs_NDVI = sns.pairplot(Yearly_Precip_vs_NDVI,\n",
    "                 x_vars=[\"Precipitation\"],\n",
    "                 y_vars=[\"NDVI\"], hue = 'year', height=5, aspect=1.5)"
   ]
  },
  {
   "cell_type": "code",
   "execution_count": 535,
   "metadata": {},
   "outputs": [],
   "source": [
    "scatterplot_Yearly_Precip_vs_NDVI.savefig(\"C:/Users/Bhuwan Acharya/Desktop/Geoinformatics_to_send_professor/Python_images/scatterplot_Yearly_Precip_vs_NDVI.png\")"
   ]
  },
  {
   "cell_type": "code",
   "execution_count": 719,
   "metadata": {
    "scrolled": true
   },
   "outputs": [
    {
     "data": {
      "image/png": "[encoded data removed]",
      "text/plain": [
       "<Figure size 601.375x360 with 1 Axes>"
      ]
     },
     "metadata": {
      "needs_background": "light"
     },
     "output_type": "display_data"
    }
   ],
   "source": [
    "regression_Yearly_Precip_vs_NDVI = sns.pairplot(Yearly_Precip_vs_NDVI,\n",
    "                 x_vars=[\"Precipitation\"],\n",
    "                 y_vars=[\"NDVI\"], hue = 'year', kind = 'reg', height=5, aspect=1.5)"
   ]
  },
  {
   "cell_type": "code",
   "execution_count": 537,
   "metadata": {},
   "outputs": [],
   "source": [
    "regression_Yearly_Precip_vs_NDVI.savefig(\"C:/Users/Bhuwan Acharya/Desktop/Geoinformatics_to_send_professor/Python_images/regression_Yearly_Precip_vs_NDVI.png\")"
   ]
  },
  {
   "cell_type": "code",
   "execution_count": 538,
   "metadata": {},
   "outputs": [
    {
     "data": {
      "image/png": "[encoded data removed]",
      "text/plain": [
       "<Figure size 432x288 with 2 Axes>"
      ]
     },
     "metadata": {
      "needs_background": "light"
     },
     "output_type": "display_data"
    }
   ],
   "source": [
    "correlation_Yearly_Precip_vs_NDVI = sns.heatmap(Yearly_Precip_vs_NDVI.corr(), annot = True)"
   ]
  },
  {
   "cell_type": "code",
   "execution_count": 539,
   "metadata": {},
   "outputs": [],
   "source": [
    "Correlation_N_P_All_year = Yearly_Precip_vs_NDVI.corr()"
   ]
  },
  {
   "cell_type": "code",
   "execution_count": 540,
   "metadata": {},
   "outputs": [],
   "source": [
    "Correlation_N_P_All_year.to_csv('C:/Users/Bhuwan Acharya/Desktop/Geoinformatics_to_send_professor/Correlation/Correlation_N_P_All_year.csv')"
   ]
  },
  {
   "cell_type": "code",
   "execution_count": null,
   "metadata": {},
   "outputs": [],
   "source": [
    "#Comparision of NDVI and temperature of all three years 2016,2017 and 2018"
   ]
  },
  {
   "cell_type": "code",
   "execution_count": 651,
   "metadata": {},
   "outputs": [],
   "source": [
    "NDVI_vs_TEMP_2018 = pd.read_csv('C:/Users/Bhuwan Acharya/Desktop/Geoinformatics_to_send_professor/2018/2018_ROI_NDVI_TEMP.csv')\n",
    "NDVI_vs_TEMP_with_year_2018 = NDVI_vs_TEMP_2018 .assign(year = ['2018','2018','2018','2018','2018','2018','2018','2018'])\n",
    "NDVI_vs_TEMP_with_year_2018 = NDVI_vs_TEMP_with_year_2018.rename(columns = {\"2018_NDVI_\" : \"NDVI\", \"2018_TEMP_\" : \"Temperature\"})\n",
    "\n",
    "NDVI_vs_TEMP_2017 = pd.read_csv('C:/Users/Bhuwan Acharya/Desktop/Geoinformatics_to_send_professor/2017/2017_ROI_NDVI_TEMP.csv')\n",
    "NDVI_vs_TEMP_with_year_2017 = NDVI_vs_TEMP_2017 .assign(year = ['2017','2017','2017','2017','2017','2017','2017','2017'])\n",
    "NDVI_vs_TEMP_with_year_2017 = NDVI_vs_TEMP_with_year_2017.rename(columns = {\"2017_NDVI_\" : \"NDVI\", \"2017_TEMP_\" : \"Temperature\"})\n",
    "\n",
    "NDVI_vs_TEMP_2016 = pd.read_csv('C:/Users/Bhuwan Acharya/Desktop/Geoinformatics_to_send_professor/2016/2016_ROI_NDVI_TEMP.csv')\n",
    "NDVI_vs_TEMP_with_year_2016 = NDVI_vs_TEMP_2016 .assign(year = ['2016','2016','2016','2016','2016','2016','2016','2016'])\n",
    "NDVI_vs_TEMP_with_year_2016 = NDVI_vs_TEMP_with_year_2016.rename(columns = {\"2016_NDVI_\" : \"NDVI\", \"2016_TEMP_\" : \"Temperature\"})"
   ]
  },
  {
   "cell_type": "code",
   "execution_count": 652,
   "metadata": {},
   "outputs": [
    {
     "data": {
      "text/html": [
       "<div>\n",
       "<style scoped>\n",
       "    .dataframe tbody tr th:only-of-type {\n",
       "        vertical-align: middle;\n",
       "    }\n",
       "\n",
       "    .dataframe tbody tr th {\n",
       "        vertical-align: top;\n",
       "    }\n",
       "\n",
       "    .dataframe thead th {\n",
       "        text-align: right;\n",
       "    }\n",
       "</style>\n",
       "<table border=\"1\" class=\"dataframe\">\n",
       "  <thead>\n",
       "    <tr style=\"text-align: right;\">\n",
       "      <th></th>\n",
       "      <th>id</th>\n",
       "      <th>NDVI</th>\n",
       "      <th>Temperature</th>\n",
       "      <th>year</th>\n",
       "    </tr>\n",
       "  </thead>\n",
       "  <tbody>\n",
       "    <tr>\n",
       "      <td>0</td>\n",
       "      <td>1</td>\n",
       "      <td>0.777684</td>\n",
       "      <td>11.202352</td>\n",
       "      <td>2018</td>\n",
       "    </tr>\n",
       "    <tr>\n",
       "      <td>1</td>\n",
       "      <td>3</td>\n",
       "      <td>0.780277</td>\n",
       "      <td>11.172970</td>\n",
       "      <td>2018</td>\n",
       "    </tr>\n",
       "    <tr>\n",
       "      <td>2</td>\n",
       "      <td>14</td>\n",
       "      <td>0.829883</td>\n",
       "      <td>11.164732</td>\n",
       "      <td>2018</td>\n",
       "    </tr>\n",
       "    <tr>\n",
       "      <td>3</td>\n",
       "      <td>17</td>\n",
       "      <td>0.827680</td>\n",
       "      <td>11.179686</td>\n",
       "      <td>2018</td>\n",
       "    </tr>\n",
       "    <tr>\n",
       "      <td>4</td>\n",
       "      <td>23</td>\n",
       "      <td>0.146516</td>\n",
       "      <td>11.177724</td>\n",
       "      <td>2018</td>\n",
       "    </tr>\n",
       "    <tr>\n",
       "      <td>5</td>\n",
       "      <td>27</td>\n",
       "      <td>0.789954</td>\n",
       "      <td>11.183642</td>\n",
       "      <td>2018</td>\n",
       "    </tr>\n",
       "    <tr>\n",
       "      <td>6</td>\n",
       "      <td>34</td>\n",
       "      <td>0.444825</td>\n",
       "      <td>11.194265</td>\n",
       "      <td>2018</td>\n",
       "    </tr>\n",
       "    <tr>\n",
       "      <td>7</td>\n",
       "      <td>38</td>\n",
       "      <td>-0.041254</td>\n",
       "      <td>11.164550</td>\n",
       "      <td>2018</td>\n",
       "    </tr>\n",
       "  </tbody>\n",
       "</table>\n",
       "</div>"
      ],
      "text/plain": [
       "   id      NDVI  Temperature  year\n",
       "0   1  0.777684    11.202352  2018\n",
       "1   3  0.780277    11.172970  2018\n",
       "2  14  0.829883    11.164732  2018\n",
       "3  17  0.827680    11.179686  2018\n",
       "4  23  0.146516    11.177724  2018\n",
       "5  27  0.789954    11.183642  2018\n",
       "6  34  0.444825    11.194265  2018\n",
       "7  38 -0.041254    11.164550  2018"
      ]
     },
     "execution_count": 652,
     "metadata": {},
     "output_type": "execute_result"
    }
   ],
   "source": [
    "NDVI_vs_TEMP_with_year_2018"
   ]
  },
  {
   "cell_type": "code",
   "execution_count": 653,
   "metadata": {},
   "outputs": [
    {
     "data": {
      "text/html": [
       "<div>\n",
       "<style scoped>\n",
       "    .dataframe tbody tr th:only-of-type {\n",
       "        vertical-align: middle;\n",
       "    }\n",
       "\n",
       "    .dataframe tbody tr th {\n",
       "        vertical-align: top;\n",
       "    }\n",
       "\n",
       "    .dataframe thead th {\n",
       "        text-align: right;\n",
       "    }\n",
       "</style>\n",
       "<table border=\"1\" class=\"dataframe\">\n",
       "  <thead>\n",
       "    <tr style=\"text-align: right;\">\n",
       "      <th></th>\n",
       "      <th>id</th>\n",
       "      <th>NDVI</th>\n",
       "      <th>Temperature</th>\n",
       "      <th>year</th>\n",
       "    </tr>\n",
       "  </thead>\n",
       "  <tbody>\n",
       "    <tr>\n",
       "      <td>0</td>\n",
       "      <td>1</td>\n",
       "      <td>0.807574</td>\n",
       "      <td>10.866093</td>\n",
       "      <td>2017</td>\n",
       "    </tr>\n",
       "    <tr>\n",
       "      <td>1</td>\n",
       "      <td>3</td>\n",
       "      <td>0.179608</td>\n",
       "      <td>10.821321</td>\n",
       "      <td>2017</td>\n",
       "    </tr>\n",
       "    <tr>\n",
       "      <td>2</td>\n",
       "      <td>14</td>\n",
       "      <td>0.850816</td>\n",
       "      <td>10.820135</td>\n",
       "      <td>2017</td>\n",
       "    </tr>\n",
       "    <tr>\n",
       "      <td>3</td>\n",
       "      <td>17</td>\n",
       "      <td>0.173824</td>\n",
       "      <td>10.832819</td>\n",
       "      <td>2017</td>\n",
       "    </tr>\n",
       "    <tr>\n",
       "      <td>4</td>\n",
       "      <td>23</td>\n",
       "      <td>0.855028</td>\n",
       "      <td>10.829314</td>\n",
       "      <td>2017</td>\n",
       "    </tr>\n",
       "    <tr>\n",
       "      <td>5</td>\n",
       "      <td>27</td>\n",
       "      <td>0.549809</td>\n",
       "      <td>10.842763</td>\n",
       "      <td>2017</td>\n",
       "    </tr>\n",
       "    <tr>\n",
       "      <td>6</td>\n",
       "      <td>34</td>\n",
       "      <td>0.456182</td>\n",
       "      <td>10.857162</td>\n",
       "      <td>2017</td>\n",
       "    </tr>\n",
       "    <tr>\n",
       "      <td>7</td>\n",
       "      <td>38</td>\n",
       "      <td>0.010162</td>\n",
       "      <td>10.817247</td>\n",
       "      <td>2017</td>\n",
       "    </tr>\n",
       "  </tbody>\n",
       "</table>\n",
       "</div>"
      ],
      "text/plain": [
       "   id      NDVI  Temperature  year\n",
       "0   1  0.807574    10.866093  2017\n",
       "1   3  0.179608    10.821321  2017\n",
       "2  14  0.850816    10.820135  2017\n",
       "3  17  0.173824    10.832819  2017\n",
       "4  23  0.855028    10.829314  2017\n",
       "5  27  0.549809    10.842763  2017\n",
       "6  34  0.456182    10.857162  2017\n",
       "7  38  0.010162    10.817247  2017"
      ]
     },
     "execution_count": 653,
     "metadata": {},
     "output_type": "execute_result"
    }
   ],
   "source": [
    "NDVI_vs_TEMP_with_year_2017"
   ]
  },
  {
   "cell_type": "code",
   "execution_count": 654,
   "metadata": {},
   "outputs": [
    {
     "data": {
      "text/html": [
       "<div>\n",
       "<style scoped>\n",
       "    .dataframe tbody tr th:only-of-type {\n",
       "        vertical-align: middle;\n",
       "    }\n",
       "\n",
       "    .dataframe tbody tr th {\n",
       "        vertical-align: top;\n",
       "    }\n",
       "\n",
       "    .dataframe thead th {\n",
       "        text-align: right;\n",
       "    }\n",
       "</style>\n",
       "<table border=\"1\" class=\"dataframe\">\n",
       "  <thead>\n",
       "    <tr style=\"text-align: right;\">\n",
       "      <th></th>\n",
       "      <th>id</th>\n",
       "      <th>NDVI</th>\n",
       "      <th>Temperature</th>\n",
       "      <th>year</th>\n",
       "    </tr>\n",
       "  </thead>\n",
       "  <tbody>\n",
       "    <tr>\n",
       "      <td>0</td>\n",
       "      <td>1</td>\n",
       "      <td>0.739759</td>\n",
       "      <td>11.451124</td>\n",
       "      <td>2016</td>\n",
       "    </tr>\n",
       "    <tr>\n",
       "      <td>1</td>\n",
       "      <td>3</td>\n",
       "      <td>0.150977</td>\n",
       "      <td>11.410650</td>\n",
       "      <td>2016</td>\n",
       "    </tr>\n",
       "    <tr>\n",
       "      <td>2</td>\n",
       "      <td>14</td>\n",
       "      <td>0.821903</td>\n",
       "      <td>11.406064</td>\n",
       "      <td>2016</td>\n",
       "    </tr>\n",
       "    <tr>\n",
       "      <td>3</td>\n",
       "      <td>17</td>\n",
       "      <td>0.734283</td>\n",
       "      <td>11.421063</td>\n",
       "      <td>2016</td>\n",
       "    </tr>\n",
       "    <tr>\n",
       "      <td>4</td>\n",
       "      <td>23</td>\n",
       "      <td>0.796000</td>\n",
       "      <td>11.417965</td>\n",
       "      <td>2016</td>\n",
       "    </tr>\n",
       "    <tr>\n",
       "      <td>5</td>\n",
       "      <td>27</td>\n",
       "      <td>0.750359</td>\n",
       "      <td>11.428492</td>\n",
       "      <td>2016</td>\n",
       "    </tr>\n",
       "    <tr>\n",
       "      <td>6</td>\n",
       "      <td>34</td>\n",
       "      <td>0.430797</td>\n",
       "      <td>11.441750</td>\n",
       "      <td>2016</td>\n",
       "    </tr>\n",
       "    <tr>\n",
       "      <td>7</td>\n",
       "      <td>38</td>\n",
       "      <td>0.019121</td>\n",
       "      <td>11.404200</td>\n",
       "      <td>2016</td>\n",
       "    </tr>\n",
       "  </tbody>\n",
       "</table>\n",
       "</div>"
      ],
      "text/plain": [
       "   id      NDVI  Temperature  year\n",
       "0   1  0.739759    11.451124  2016\n",
       "1   3  0.150977    11.410650  2016\n",
       "2  14  0.821903    11.406064  2016\n",
       "3  17  0.734283    11.421063  2016\n",
       "4  23  0.796000    11.417965  2016\n",
       "5  27  0.750359    11.428492  2016\n",
       "6  34  0.430797    11.441750  2016\n",
       "7  38  0.019121    11.404200  2016"
      ]
     },
     "execution_count": 654,
     "metadata": {},
     "output_type": "execute_result"
    }
   ],
   "source": [
    "NDVI_vs_TEMP_with_year_2016"
   ]
  },
  {
   "cell_type": "code",
   "execution_count": 655,
   "metadata": {},
   "outputs": [],
   "source": [
    "Yearly_Temperature_vs_NDVI = NDVI_vs_TEMP_with_year_2016 .append(NDVI_vs_TEMP_with_year_2017).append(NDVI_vs_TEMP_with_year_2018)"
   ]
  },
  {
   "cell_type": "code",
   "execution_count": 656,
   "metadata": {},
   "outputs": [
    {
     "data": {
      "text/html": [
       "<div>\n",
       "<style scoped>\n",
       "    .dataframe tbody tr th:only-of-type {\n",
       "        vertical-align: middle;\n",
       "    }\n",
       "\n",
       "    .dataframe tbody tr th {\n",
       "        vertical-align: top;\n",
       "    }\n",
       "\n",
       "    .dataframe thead th {\n",
       "        text-align: right;\n",
       "    }\n",
       "</style>\n",
       "<table border=\"1\" class=\"dataframe\">\n",
       "  <thead>\n",
       "    <tr style=\"text-align: right;\">\n",
       "      <th></th>\n",
       "      <th>id</th>\n",
       "      <th>NDVI</th>\n",
       "      <th>Temperature</th>\n",
       "      <th>year</th>\n",
       "    </tr>\n",
       "  </thead>\n",
       "  <tbody>\n",
       "    <tr>\n",
       "      <td>0</td>\n",
       "      <td>1</td>\n",
       "      <td>0.739759</td>\n",
       "      <td>11.451124</td>\n",
       "      <td>2016</td>\n",
       "    </tr>\n",
       "    <tr>\n",
       "      <td>1</td>\n",
       "      <td>3</td>\n",
       "      <td>0.150977</td>\n",
       "      <td>11.410650</td>\n",
       "      <td>2016</td>\n",
       "    </tr>\n",
       "    <tr>\n",
       "      <td>2</td>\n",
       "      <td>14</td>\n",
       "      <td>0.821903</td>\n",
       "      <td>11.406064</td>\n",
       "      <td>2016</td>\n",
       "    </tr>\n",
       "    <tr>\n",
       "      <td>3</td>\n",
       "      <td>17</td>\n",
       "      <td>0.734283</td>\n",
       "      <td>11.421063</td>\n",
       "      <td>2016</td>\n",
       "    </tr>\n",
       "    <tr>\n",
       "      <td>4</td>\n",
       "      <td>23</td>\n",
       "      <td>0.796000</td>\n",
       "      <td>11.417965</td>\n",
       "      <td>2016</td>\n",
       "    </tr>\n",
       "    <tr>\n",
       "      <td>5</td>\n",
       "      <td>27</td>\n",
       "      <td>0.750359</td>\n",
       "      <td>11.428492</td>\n",
       "      <td>2016</td>\n",
       "    </tr>\n",
       "    <tr>\n",
       "      <td>6</td>\n",
       "      <td>34</td>\n",
       "      <td>0.430797</td>\n",
       "      <td>11.441750</td>\n",
       "      <td>2016</td>\n",
       "    </tr>\n",
       "    <tr>\n",
       "      <td>7</td>\n",
       "      <td>38</td>\n",
       "      <td>0.019121</td>\n",
       "      <td>11.404200</td>\n",
       "      <td>2016</td>\n",
       "    </tr>\n",
       "    <tr>\n",
       "      <td>0</td>\n",
       "      <td>1</td>\n",
       "      <td>0.807574</td>\n",
       "      <td>10.866093</td>\n",
       "      <td>2017</td>\n",
       "    </tr>\n",
       "    <tr>\n",
       "      <td>1</td>\n",
       "      <td>3</td>\n",
       "      <td>0.179608</td>\n",
       "      <td>10.821321</td>\n",
       "      <td>2017</td>\n",
       "    </tr>\n",
       "    <tr>\n",
       "      <td>2</td>\n",
       "      <td>14</td>\n",
       "      <td>0.850816</td>\n",
       "      <td>10.820135</td>\n",
       "      <td>2017</td>\n",
       "    </tr>\n",
       "    <tr>\n",
       "      <td>3</td>\n",
       "      <td>17</td>\n",
       "      <td>0.173824</td>\n",
       "      <td>10.832819</td>\n",
       "      <td>2017</td>\n",
       "    </tr>\n",
       "    <tr>\n",
       "      <td>4</td>\n",
       "      <td>23</td>\n",
       "      <td>0.855028</td>\n",
       "      <td>10.829314</td>\n",
       "      <td>2017</td>\n",
       "    </tr>\n",
       "    <tr>\n",
       "      <td>5</td>\n",
       "      <td>27</td>\n",
       "      <td>0.549809</td>\n",
       "      <td>10.842763</td>\n",
       "      <td>2017</td>\n",
       "    </tr>\n",
       "    <tr>\n",
       "      <td>6</td>\n",
       "      <td>34</td>\n",
       "      <td>0.456182</td>\n",
       "      <td>10.857162</td>\n",
       "      <td>2017</td>\n",
       "    </tr>\n",
       "    <tr>\n",
       "      <td>7</td>\n",
       "      <td>38</td>\n",
       "      <td>0.010162</td>\n",
       "      <td>10.817247</td>\n",
       "      <td>2017</td>\n",
       "    </tr>\n",
       "    <tr>\n",
       "      <td>0</td>\n",
       "      <td>1</td>\n",
       "      <td>0.777684</td>\n",
       "      <td>11.202352</td>\n",
       "      <td>2018</td>\n",
       "    </tr>\n",
       "    <tr>\n",
       "      <td>1</td>\n",
       "      <td>3</td>\n",
       "      <td>0.780277</td>\n",
       "      <td>11.172970</td>\n",
       "      <td>2018</td>\n",
       "    </tr>\n",
       "    <tr>\n",
       "      <td>2</td>\n",
       "      <td>14</td>\n",
       "      <td>0.829883</td>\n",
       "      <td>11.164732</td>\n",
       "      <td>2018</td>\n",
       "    </tr>\n",
       "    <tr>\n",
       "      <td>3</td>\n",
       "      <td>17</td>\n",
       "      <td>0.827680</td>\n",
       "      <td>11.179686</td>\n",
       "      <td>2018</td>\n",
       "    </tr>\n",
       "    <tr>\n",
       "      <td>4</td>\n",
       "      <td>23</td>\n",
       "      <td>0.146516</td>\n",
       "      <td>11.177724</td>\n",
       "      <td>2018</td>\n",
       "    </tr>\n",
       "    <tr>\n",
       "      <td>5</td>\n",
       "      <td>27</td>\n",
       "      <td>0.789954</td>\n",
       "      <td>11.183642</td>\n",
       "      <td>2018</td>\n",
       "    </tr>\n",
       "    <tr>\n",
       "      <td>6</td>\n",
       "      <td>34</td>\n",
       "      <td>0.444825</td>\n",
       "      <td>11.194265</td>\n",
       "      <td>2018</td>\n",
       "    </tr>\n",
       "    <tr>\n",
       "      <td>7</td>\n",
       "      <td>38</td>\n",
       "      <td>-0.041254</td>\n",
       "      <td>11.164550</td>\n",
       "      <td>2018</td>\n",
       "    </tr>\n",
       "  </tbody>\n",
       "</table>\n",
       "</div>"
      ],
      "text/plain": [
       "   id      NDVI  Temperature  year\n",
       "0   1  0.739759    11.451124  2016\n",
       "1   3  0.150977    11.410650  2016\n",
       "2  14  0.821903    11.406064  2016\n",
       "3  17  0.734283    11.421063  2016\n",
       "4  23  0.796000    11.417965  2016\n",
       "5  27  0.750359    11.428492  2016\n",
       "6  34  0.430797    11.441750  2016\n",
       "7  38  0.019121    11.404200  2016\n",
       "0   1  0.807574    10.866093  2017\n",
       "1   3  0.179608    10.821321  2017\n",
       "2  14  0.850816    10.820135  2017\n",
       "3  17  0.173824    10.832819  2017\n",
       "4  23  0.855028    10.829314  2017\n",
       "5  27  0.549809    10.842763  2017\n",
       "6  34  0.456182    10.857162  2017\n",
       "7  38  0.010162    10.817247  2017\n",
       "0   1  0.777684    11.202352  2018\n",
       "1   3  0.780277    11.172970  2018\n",
       "2  14  0.829883    11.164732  2018\n",
       "3  17  0.827680    11.179686  2018\n",
       "4  23  0.146516    11.177724  2018\n",
       "5  27  0.789954    11.183642  2018\n",
       "6  34  0.444825    11.194265  2018\n",
       "7  38 -0.041254    11.164550  2018"
      ]
     },
     "execution_count": 656,
     "metadata": {},
     "output_type": "execute_result"
    }
   ],
   "source": [
    "Yearly_Temperature_vs_NDVI"
   ]
  },
  {
   "cell_type": "code",
   "execution_count": 637,
   "metadata": {},
   "outputs": [],
   "source": [
    "Yearly_Temperature_vs_NDVI = Yearly_Temperature_vs_NDVI.drop(['id'], axis=1)"
   ]
  },
  {
   "cell_type": "code",
   "execution_count": 718,
   "metadata": {},
   "outputs": [
    {
     "data": {
      "image/png": "[encoded data removed]",
      "text/plain": [
       "<Figure size 601.375x360 with 1 Axes>"
      ]
     },
     "metadata": {
      "needs_background": "light"
     },
     "output_type": "display_data"
    }
   ],
   "source": [
    "scatterpplot_Yearly_Temperature_vs_NDVI = sns.pairplot(Yearly_Temperature_vs_NDVI,\n",
    "                 x_vars=[\"Temperature\"],\n",
    "                 y_vars=[\"NDVI\"], hue = 'year', height=5, aspect=1.5 )"
   ]
  },
  {
   "cell_type": "code",
   "execution_count": 658,
   "metadata": {},
   "outputs": [],
   "source": [
    "scatterpplot_Yearly_Temperature_vs_NDVI.savefig(\"C:/Users/Bhuwan Acharya/Desktop/Geoinformatics_to_send_professor/Python_images/scatterpplot_Yearly_Temperature_vs_NDVI.png\")"
   ]
  },
  {
   "cell_type": "code",
   "execution_count": 705,
   "metadata": {},
   "outputs": [
    {
     "data": {
      "image/png": "[encoded data removed]",
      "text/plain": [
       "<Figure size 601.375x360 with 1 Axes>"
      ]
     },
     "metadata": {
      "needs_background": "light"
     },
     "output_type": "display_data"
    }
   ],
   "source": [
    "Regration_Yearly_Temperature_vs_NDVI = sns.pairplot(Yearly_Temperature_vs_NDVI,\n",
    "                 x_vars=[\"Temperature\"],\n",
    "                 y_vars=[\"NDVI\"], hue = 'year', kind = 'reg', height=5, aspect=1.5)"
   ]
  },
  {
   "cell_type": "code",
   "execution_count": 706,
   "metadata": {},
   "outputs": [
    {
     "data": {
      "text/plain": [
       "<seaborn.axisgrid.PairGrid at 0x218e4a12388>"
      ]
     },
     "execution_count": 706,
     "metadata": {},
     "output_type": "execute_result"
    },
    {
     "data": {
      "image/png": "[encoded data removed]",
      "text/plain": [
       "<Figure size 540x360 with 1 Axes>"
      ]
     },
     "metadata": {
      "needs_background": "light"
     },
     "output_type": "display_data"
    }
   ],
   "source": [
    "# regression line has been drawn on all the data rather than separating yearly\n",
    "sns.pairplot(Yearly_Temperature_vs_NDVI,\n",
    "                 x_vars=[\"Temperature\"],\n",
    "                 y_vars=[\"NDVI\"], kind = 'reg', height=5, aspect=1.5)"
   ]
  },
  {
   "cell_type": "code",
   "execution_count": 707,
   "metadata": {},
   "outputs": [
    {
     "data": {
      "text/plain": [
       "<seaborn.axisgrid.PairGrid at 0x218e612fd88>"
      ]
     },
     "execution_count": 707,
     "metadata": {},
     "output_type": "execute_result"
    },
    {
     "data": {
      "image/png": "[encoded data removed]",
      "text/plain": [
       "<Figure size 588.75x360 with 1 Axes>"
      ]
     },
     "metadata": {
      "needs_background": "light"
     },
     "output_type": "display_data"
    }
   ],
   "source": [
    "#Regression line has been plotted regarding the study area to know how the relation between temperature and NDVI is the different year in the same area of interest\n",
    "sns.pairplot(Yearly_Temperature_vs_NDVI,\n",
    "                 x_vars=[\"Temperature\"],\n",
    "                 y_vars=[\"NDVI\"], hue = 'id', kind = 'reg', height=5, aspect=1.5)"
   ]
  },
  {
   "cell_type": "code",
   "execution_count": 717,
   "metadata": {},
   "outputs": [
    {
     "data": {
      "image/png": "[encoded data removed]",
      "text/plain": [
       "<Figure size 925.375x216 with 8 Axes>"
      ]
     },
     "metadata": {
      "needs_background": "light"
     },
     "output_type": "display_data"
    }
   ],
   "source": [
    "#Relation between NDVI and temperature every year with respect to the study region\n",
    "Yearly_check = sns.FacetGrid(Yearly_Temperature_vs_NDVI, col =\"id\", hue =\"year\", aspect=.5)\n",
    "Yearly_check.map(plt.scatter, \"Temperature\", \"NDVI\" , alpha=.7)\n",
    "Yearly_check.add_legend();"
   ]
  },
  {
   "cell_type": "code",
   "execution_count": 551,
   "metadata": {},
   "outputs": [],
   "source": [
    "Regration_Yearly_Temperature_vs_NDVI.savefig(\"C:/Users/Bhuwan Acharya/Desktop/Geoinformatics_to_send_professor/Python_images/Regration_Yearly_Temperature_vs_NDVI.png\")"
   ]
  },
  {
   "cell_type": "code",
   "execution_count": 552,
   "metadata": {
    "scrolled": true
   },
   "outputs": [
    {
     "data": {
      "image/png": "[encoded data removed]",
      "text/plain": [
       "<Figure size 432x288 with 2 Axes>"
      ]
     },
     "metadata": {
      "needs_background": "light"
     },
     "output_type": "display_data"
    }
   ],
   "source": [
    "correlation_Yearly_Temperature_vs_NDVI = sns.heatmap(Yearly_Temperature_vs_NDVI.corr(), annot = True)"
   ]
  },
  {
   "cell_type": "code",
   "execution_count": 553,
   "metadata": {},
   "outputs": [],
   "source": [
    "Correlation_N_T_All_year = Yearly_Temperature_vs_NDVI.corr()"
   ]
  },
  {
   "cell_type": "code",
   "execution_count": 554,
   "metadata": {},
   "outputs": [],
   "source": [
    "Correlation_N_T_All_year.to_csv('C:/Users/Bhuwan Acharya/Desktop/Geoinformatics_to_send_professor/Correlation/Correlation_N_T_All_year.csv')"
   ]
  },
  {
   "cell_type": "code",
   "execution_count": null,
   "metadata": {},
   "outputs": [],
   "source": [
    "#Comparision of precipitation and temperature of all three years 2016,2017 and 2018"
   ]
  },
  {
   "cell_type": "code",
   "execution_count": 555,
   "metadata": {},
   "outputs": [],
   "source": [
    "PRECIP_vs_TEMP_2018 = pd.read_csv('C:/Users/Bhuwan Acharya/Desktop/Geoinformatics_to_send_professor/2018/2018_ROI_TEMP_PRECIP.csv')\n",
    "PRECIP_vs_TEMP_with_year_2018 = PRECIP_vs_TEMP_2018 .assign(year = ['2018','2018','2018','2018','2018','2018','2018','2018'])\n",
    "PRECIP_vs_TEMP_with_year_2018 = PRECIP_vs_TEMP_with_year_2018.rename(columns = {\"2018_PRECI\" : \"Precipitation\", \"2018_TEMP_\" : \"Temperature\"})\n",
    "\n",
    "PRECIP_vs_TEMP_2017 = pd.read_csv('C:/Users/Bhuwan Acharya/Desktop/Geoinformatics_to_send_professor/2017/2017_ROI_TEMP_PRECIP.csv')\n",
    "PRECIP_vs_TEMP_with_year_2017 = PRECIP_vs_TEMP_2017 .assign(year = ['2017','2017','2017','2017','2017','2017','2017','2017'])\n",
    "PRECIP_vs_TEMP_with_year_2017 = PRECIP_vs_TEMP_with_year_2017.rename(columns = {\"2017_PRECI\" : \"Precipitation\", \"2017_TEMP_\" : \"Temperature\"})\n",
    "\n",
    "PRECIP_vs_TEMP_2016 = pd.read_csv('C:/Users/Bhuwan Acharya/Desktop/Geoinformatics_to_send_professor/2016/2016_ROI_TEMP_PRECIP.csv')\n",
    "PRECIP_vs_TEMP_with_year_2016 = PRECIP_vs_TEMP_2016 .assign(year = ['2016','2016','2016','2016','2016','2016','2016','2016'])\n",
    "PRECIP_vs_TEMP_with_year_2016 = PRECIP_vs_TEMP_with_year_2016.rename(columns = {\"2016_PRECI\" : \"Precipitation\", \"2016_TEMP_\" : \"Temperature\"})"
   ]
  },
  {
   "cell_type": "code",
   "execution_count": 556,
   "metadata": {},
   "outputs": [
    {
     "data": {
      "text/html": [
       "<div>\n",
       "<style scoped>\n",
       "    .dataframe tbody tr th:only-of-type {\n",
       "        vertical-align: middle;\n",
       "    }\n",
       "\n",
       "    .dataframe tbody tr th {\n",
       "        vertical-align: top;\n",
       "    }\n",
       "\n",
       "    .dataframe thead th {\n",
       "        text-align: right;\n",
       "    }\n",
       "</style>\n",
       "<table border=\"1\" class=\"dataframe\">\n",
       "  <thead>\n",
       "    <tr style=\"text-align: right;\">\n",
       "      <th></th>\n",
       "      <th>id</th>\n",
       "      <th>Precipitation</th>\n",
       "      <th>Temperature</th>\n",
       "      <th>year</th>\n",
       "    </tr>\n",
       "  </thead>\n",
       "  <tbody>\n",
       "    <tr>\n",
       "      <td>0</td>\n",
       "      <td>1</td>\n",
       "      <td>792.488253</td>\n",
       "      <td>11.202352</td>\n",
       "      <td>2018</td>\n",
       "    </tr>\n",
       "    <tr>\n",
       "      <td>1</td>\n",
       "      <td>3</td>\n",
       "      <td>792.940746</td>\n",
       "      <td>11.172970</td>\n",
       "      <td>2018</td>\n",
       "    </tr>\n",
       "    <tr>\n",
       "      <td>2</td>\n",
       "      <td>14</td>\n",
       "      <td>790.113282</td>\n",
       "      <td>11.164732</td>\n",
       "      <td>2018</td>\n",
       "    </tr>\n",
       "    <tr>\n",
       "      <td>3</td>\n",
       "      <td>17</td>\n",
       "      <td>793.031209</td>\n",
       "      <td>11.179686</td>\n",
       "      <td>2018</td>\n",
       "    </tr>\n",
       "    <tr>\n",
       "      <td>4</td>\n",
       "      <td>23</td>\n",
       "      <td>793.001960</td>\n",
       "      <td>11.177724</td>\n",
       "      <td>2018</td>\n",
       "    </tr>\n",
       "    <tr>\n",
       "      <td>5</td>\n",
       "      <td>27</td>\n",
       "      <td>791.664245</td>\n",
       "      <td>11.183642</td>\n",
       "      <td>2018</td>\n",
       "    </tr>\n",
       "    <tr>\n",
       "      <td>6</td>\n",
       "      <td>34</td>\n",
       "      <td>790.331949</td>\n",
       "      <td>11.194265</td>\n",
       "      <td>2018</td>\n",
       "    </tr>\n",
       "    <tr>\n",
       "      <td>7</td>\n",
       "      <td>38</td>\n",
       "      <td>792.231501</td>\n",
       "      <td>11.164550</td>\n",
       "      <td>2018</td>\n",
       "    </tr>\n",
       "  </tbody>\n",
       "</table>\n",
       "</div>"
      ],
      "text/plain": [
       "   id  Precipitation  Temperature  year\n",
       "0   1     792.488253    11.202352  2018\n",
       "1   3     792.940746    11.172970  2018\n",
       "2  14     790.113282    11.164732  2018\n",
       "3  17     793.031209    11.179686  2018\n",
       "4  23     793.001960    11.177724  2018\n",
       "5  27     791.664245    11.183642  2018\n",
       "6  34     790.331949    11.194265  2018\n",
       "7  38     792.231501    11.164550  2018"
      ]
     },
     "execution_count": 556,
     "metadata": {},
     "output_type": "execute_result"
    }
   ],
   "source": [
    "PRECIP_vs_TEMP_with_year_2018"
   ]
  },
  {
   "cell_type": "code",
   "execution_count": 557,
   "metadata": {},
   "outputs": [
    {
     "data": {
      "text/html": [
       "<div>\n",
       "<style scoped>\n",
       "    .dataframe tbody tr th:only-of-type {\n",
       "        vertical-align: middle;\n",
       "    }\n",
       "\n",
       "    .dataframe tbody tr th {\n",
       "        vertical-align: top;\n",
       "    }\n",
       "\n",
       "    .dataframe thead th {\n",
       "        text-align: right;\n",
       "    }\n",
       "</style>\n",
       "<table border=\"1\" class=\"dataframe\">\n",
       "  <thead>\n",
       "    <tr style=\"text-align: right;\">\n",
       "      <th></th>\n",
       "      <th>id</th>\n",
       "      <th>Precipitation</th>\n",
       "      <th>Temperature</th>\n",
       "      <th>year</th>\n",
       "    </tr>\n",
       "  </thead>\n",
       "  <tbody>\n",
       "    <tr>\n",
       "      <td>0</td>\n",
       "      <td>1</td>\n",
       "      <td>809.598460</td>\n",
       "      <td>10.866093</td>\n",
       "      <td>2017</td>\n",
       "    </tr>\n",
       "    <tr>\n",
       "      <td>1</td>\n",
       "      <td>3</td>\n",
       "      <td>867.201708</td>\n",
       "      <td>10.821321</td>\n",
       "      <td>2017</td>\n",
       "    </tr>\n",
       "    <tr>\n",
       "      <td>2</td>\n",
       "      <td>14</td>\n",
       "      <td>835.151957</td>\n",
       "      <td>10.820135</td>\n",
       "      <td>2017</td>\n",
       "    </tr>\n",
       "    <tr>\n",
       "      <td>3</td>\n",
       "      <td>17</td>\n",
       "      <td>859.635621</td>\n",
       "      <td>10.832819</td>\n",
       "      <td>2017</td>\n",
       "    </tr>\n",
       "    <tr>\n",
       "      <td>4</td>\n",
       "      <td>23</td>\n",
       "      <td>863.047832</td>\n",
       "      <td>10.829314</td>\n",
       "      <td>2017</td>\n",
       "    </tr>\n",
       "    <tr>\n",
       "      <td>5</td>\n",
       "      <td>27</td>\n",
       "      <td>831.205064</td>\n",
       "      <td>10.842763</td>\n",
       "      <td>2017</td>\n",
       "    </tr>\n",
       "    <tr>\n",
       "      <td>6</td>\n",
       "      <td>34</td>\n",
       "      <td>813.681060</td>\n",
       "      <td>10.857162</td>\n",
       "      <td>2017</td>\n",
       "    </tr>\n",
       "    <tr>\n",
       "      <td>7</td>\n",
       "      <td>38</td>\n",
       "      <td>855.164839</td>\n",
       "      <td>10.817247</td>\n",
       "      <td>2017</td>\n",
       "    </tr>\n",
       "  </tbody>\n",
       "</table>\n",
       "</div>"
      ],
      "text/plain": [
       "   id  Precipitation  Temperature  year\n",
       "0   1     809.598460    10.866093  2017\n",
       "1   3     867.201708    10.821321  2017\n",
       "2  14     835.151957    10.820135  2017\n",
       "3  17     859.635621    10.832819  2017\n",
       "4  23     863.047832    10.829314  2017\n",
       "5  27     831.205064    10.842763  2017\n",
       "6  34     813.681060    10.857162  2017\n",
       "7  38     855.164839    10.817247  2017"
      ]
     },
     "execution_count": 557,
     "metadata": {},
     "output_type": "execute_result"
    }
   ],
   "source": [
    "PRECIP_vs_TEMP_with_year_2017"
   ]
  },
  {
   "cell_type": "code",
   "execution_count": 558,
   "metadata": {},
   "outputs": [
    {
     "data": {
      "text/html": [
       "<div>\n",
       "<style scoped>\n",
       "    .dataframe tbody tr th:only-of-type {\n",
       "        vertical-align: middle;\n",
       "    }\n",
       "\n",
       "    .dataframe tbody tr th {\n",
       "        vertical-align: top;\n",
       "    }\n",
       "\n",
       "    .dataframe thead th {\n",
       "        text-align: right;\n",
       "    }\n",
       "</style>\n",
       "<table border=\"1\" class=\"dataframe\">\n",
       "  <thead>\n",
       "    <tr style=\"text-align: right;\">\n",
       "      <th></th>\n",
       "      <th>id</th>\n",
       "      <th>Precipitation</th>\n",
       "      <th>Temperature</th>\n",
       "      <th>year</th>\n",
       "    </tr>\n",
       "  </thead>\n",
       "  <tbody>\n",
       "    <tr>\n",
       "      <td>0</td>\n",
       "      <td>1</td>\n",
       "      <td>1011.446424</td>\n",
       "      <td>11.451124</td>\n",
       "      <td>2016</td>\n",
       "    </tr>\n",
       "    <tr>\n",
       "      <td>1</td>\n",
       "      <td>3</td>\n",
       "      <td>1046.879300</td>\n",
       "      <td>11.410650</td>\n",
       "      <td>2016</td>\n",
       "    </tr>\n",
       "    <tr>\n",
       "      <td>2</td>\n",
       "      <td>14</td>\n",
       "      <td>1026.570165</td>\n",
       "      <td>11.406064</td>\n",
       "      <td>2016</td>\n",
       "    </tr>\n",
       "    <tr>\n",
       "      <td>3</td>\n",
       "      <td>17</td>\n",
       "      <td>1042.059154</td>\n",
       "      <td>11.421063</td>\n",
       "      <td>2016</td>\n",
       "    </tr>\n",
       "    <tr>\n",
       "      <td>4</td>\n",
       "      <td>23</td>\n",
       "      <td>1044.223361</td>\n",
       "      <td>11.417965</td>\n",
       "      <td>2016</td>\n",
       "    </tr>\n",
       "    <tr>\n",
       "      <td>5</td>\n",
       "      <td>27</td>\n",
       "      <td>1024.547836</td>\n",
       "      <td>11.428492</td>\n",
       "      <td>2016</td>\n",
       "    </tr>\n",
       "    <tr>\n",
       "      <td>6</td>\n",
       "      <td>34</td>\n",
       "      <td>1014.282835</td>\n",
       "      <td>11.441750</td>\n",
       "      <td>2016</td>\n",
       "    </tr>\n",
       "    <tr>\n",
       "      <td>7</td>\n",
       "      <td>38</td>\n",
       "      <td>1039.297243</td>\n",
       "      <td>11.404200</td>\n",
       "      <td>2016</td>\n",
       "    </tr>\n",
       "  </tbody>\n",
       "</table>\n",
       "</div>"
      ],
      "text/plain": [
       "   id  Precipitation  Temperature  year\n",
       "0   1    1011.446424    11.451124  2016\n",
       "1   3    1046.879300    11.410650  2016\n",
       "2  14    1026.570165    11.406064  2016\n",
       "3  17    1042.059154    11.421063  2016\n",
       "4  23    1044.223361    11.417965  2016\n",
       "5  27    1024.547836    11.428492  2016\n",
       "6  34    1014.282835    11.441750  2016\n",
       "7  38    1039.297243    11.404200  2016"
      ]
     },
     "execution_count": 558,
     "metadata": {},
     "output_type": "execute_result"
    }
   ],
   "source": [
    "PRECIP_vs_TEMP_with_year_2016"
   ]
  },
  {
   "cell_type": "code",
   "execution_count": 559,
   "metadata": {},
   "outputs": [],
   "source": [
    "Yearly_Temperature_vs_Precipitation = PRECIP_vs_TEMP_with_year_2016 .append(PRECIP_vs_TEMP_with_year_2017).append(PRECIP_vs_TEMP_with_year_2018)"
   ]
  },
  {
   "cell_type": "code",
   "execution_count": 560,
   "metadata": {
    "scrolled": true
   },
   "outputs": [
    {
     "data": {
      "text/html": [
       "<div>\n",
       "<style scoped>\n",
       "    .dataframe tbody tr th:only-of-type {\n",
       "        vertical-align: middle;\n",
       "    }\n",
       "\n",
       "    .dataframe tbody tr th {\n",
       "        vertical-align: top;\n",
       "    }\n",
       "\n",
       "    .dataframe thead th {\n",
       "        text-align: right;\n",
       "    }\n",
       "</style>\n",
       "<table border=\"1\" class=\"dataframe\">\n",
       "  <thead>\n",
       "    <tr style=\"text-align: right;\">\n",
       "      <th></th>\n",
       "      <th>id</th>\n",
       "      <th>Precipitation</th>\n",
       "      <th>Temperature</th>\n",
       "      <th>year</th>\n",
       "    </tr>\n",
       "  </thead>\n",
       "  <tbody>\n",
       "    <tr>\n",
       "      <td>0</td>\n",
       "      <td>1</td>\n",
       "      <td>1011.446424</td>\n",
       "      <td>11.451124</td>\n",
       "      <td>2016</td>\n",
       "    </tr>\n",
       "    <tr>\n",
       "      <td>1</td>\n",
       "      <td>3</td>\n",
       "      <td>1046.879300</td>\n",
       "      <td>11.410650</td>\n",
       "      <td>2016</td>\n",
       "    </tr>\n",
       "    <tr>\n",
       "      <td>2</td>\n",
       "      <td>14</td>\n",
       "      <td>1026.570165</td>\n",
       "      <td>11.406064</td>\n",
       "      <td>2016</td>\n",
       "    </tr>\n",
       "    <tr>\n",
       "      <td>3</td>\n",
       "      <td>17</td>\n",
       "      <td>1042.059154</td>\n",
       "      <td>11.421063</td>\n",
       "      <td>2016</td>\n",
       "    </tr>\n",
       "    <tr>\n",
       "      <td>4</td>\n",
       "      <td>23</td>\n",
       "      <td>1044.223361</td>\n",
       "      <td>11.417965</td>\n",
       "      <td>2016</td>\n",
       "    </tr>\n",
       "    <tr>\n",
       "      <td>5</td>\n",
       "      <td>27</td>\n",
       "      <td>1024.547836</td>\n",
       "      <td>11.428492</td>\n",
       "      <td>2016</td>\n",
       "    </tr>\n",
       "    <tr>\n",
       "      <td>6</td>\n",
       "      <td>34</td>\n",
       "      <td>1014.282835</td>\n",
       "      <td>11.441750</td>\n",
       "      <td>2016</td>\n",
       "    </tr>\n",
       "    <tr>\n",
       "      <td>7</td>\n",
       "      <td>38</td>\n",
       "      <td>1039.297243</td>\n",
       "      <td>11.404200</td>\n",
       "      <td>2016</td>\n",
       "    </tr>\n",
       "    <tr>\n",
       "      <td>0</td>\n",
       "      <td>1</td>\n",
       "      <td>809.598460</td>\n",
       "      <td>10.866093</td>\n",
       "      <td>2017</td>\n",
       "    </tr>\n",
       "    <tr>\n",
       "      <td>1</td>\n",
       "      <td>3</td>\n",
       "      <td>867.201708</td>\n",
       "      <td>10.821321</td>\n",
       "      <td>2017</td>\n",
       "    </tr>\n",
       "    <tr>\n",
       "      <td>2</td>\n",
       "      <td>14</td>\n",
       "      <td>835.151957</td>\n",
       "      <td>10.820135</td>\n",
       "      <td>2017</td>\n",
       "    </tr>\n",
       "    <tr>\n",
       "      <td>3</td>\n",
       "      <td>17</td>\n",
       "      <td>859.635621</td>\n",
       "      <td>10.832819</td>\n",
       "      <td>2017</td>\n",
       "    </tr>\n",
       "    <tr>\n",
       "      <td>4</td>\n",
       "      <td>23</td>\n",
       "      <td>863.047832</td>\n",
       "      <td>10.829314</td>\n",
       "      <td>2017</td>\n",
       "    </tr>\n",
       "    <tr>\n",
       "      <td>5</td>\n",
       "      <td>27</td>\n",
       "      <td>831.205064</td>\n",
       "      <td>10.842763</td>\n",
       "      <td>2017</td>\n",
       "    </tr>\n",
       "    <tr>\n",
       "      <td>6</td>\n",
       "      <td>34</td>\n",
       "      <td>813.681060</td>\n",
       "      <td>10.857162</td>\n",
       "      <td>2017</td>\n",
       "    </tr>\n",
       "    <tr>\n",
       "      <td>7</td>\n",
       "      <td>38</td>\n",
       "      <td>855.164839</td>\n",
       "      <td>10.817247</td>\n",
       "      <td>2017</td>\n",
       "    </tr>\n",
       "    <tr>\n",
       "      <td>0</td>\n",
       "      <td>1</td>\n",
       "      <td>792.488253</td>\n",
       "      <td>11.202352</td>\n",
       "      <td>2018</td>\n",
       "    </tr>\n",
       "    <tr>\n",
       "      <td>1</td>\n",
       "      <td>3</td>\n",
       "      <td>792.940746</td>\n",
       "      <td>11.172970</td>\n",
       "      <td>2018</td>\n",
       "    </tr>\n",
       "    <tr>\n",
       "      <td>2</td>\n",
       "      <td>14</td>\n",
       "      <td>790.113282</td>\n",
       "      <td>11.164732</td>\n",
       "      <td>2018</td>\n",
       "    </tr>\n",
       "    <tr>\n",
       "      <td>3</td>\n",
       "      <td>17</td>\n",
       "      <td>793.031209</td>\n",
       "      <td>11.179686</td>\n",
       "      <td>2018</td>\n",
       "    </tr>\n",
       "    <tr>\n",
       "      <td>4</td>\n",
       "      <td>23</td>\n",
       "      <td>793.001960</td>\n",
       "      <td>11.177724</td>\n",
       "      <td>2018</td>\n",
       "    </tr>\n",
       "    <tr>\n",
       "      <td>5</td>\n",
       "      <td>27</td>\n",
       "      <td>791.664245</td>\n",
       "      <td>11.183642</td>\n",
       "      <td>2018</td>\n",
       "    </tr>\n",
       "    <tr>\n",
       "      <td>6</td>\n",
       "      <td>34</td>\n",
       "      <td>790.331949</td>\n",
       "      <td>11.194265</td>\n",
       "      <td>2018</td>\n",
       "    </tr>\n",
       "    <tr>\n",
       "      <td>7</td>\n",
       "      <td>38</td>\n",
       "      <td>792.231501</td>\n",
       "      <td>11.164550</td>\n",
       "      <td>2018</td>\n",
       "    </tr>\n",
       "  </tbody>\n",
       "</table>\n",
       "</div>"
      ],
      "text/plain": [
       "   id  Precipitation  Temperature  year\n",
       "0   1    1011.446424    11.451124  2016\n",
       "1   3    1046.879300    11.410650  2016\n",
       "2  14    1026.570165    11.406064  2016\n",
       "3  17    1042.059154    11.421063  2016\n",
       "4  23    1044.223361    11.417965  2016\n",
       "5  27    1024.547836    11.428492  2016\n",
       "6  34    1014.282835    11.441750  2016\n",
       "7  38    1039.297243    11.404200  2016\n",
       "0   1     809.598460    10.866093  2017\n",
       "1   3     867.201708    10.821321  2017\n",
       "2  14     835.151957    10.820135  2017\n",
       "3  17     859.635621    10.832819  2017\n",
       "4  23     863.047832    10.829314  2017\n",
       "5  27     831.205064    10.842763  2017\n",
       "6  34     813.681060    10.857162  2017\n",
       "7  38     855.164839    10.817247  2017\n",
       "0   1     792.488253    11.202352  2018\n",
       "1   3     792.940746    11.172970  2018\n",
       "2  14     790.113282    11.164732  2018\n",
       "3  17     793.031209    11.179686  2018\n",
       "4  23     793.001960    11.177724  2018\n",
       "5  27     791.664245    11.183642  2018\n",
       "6  34     790.331949    11.194265  2018\n",
       "7  38     792.231501    11.164550  2018"
      ]
     },
     "execution_count": 560,
     "metadata": {},
     "output_type": "execute_result"
    }
   ],
   "source": [
    "Yearly_Temperature_vs_Precipitation"
   ]
  },
  {
   "cell_type": "code",
   "execution_count": 561,
   "metadata": {},
   "outputs": [],
   "source": [
    "Yearly_Temperature_vs_Precipitation = Yearly_Temperature_vs_Precipitation.drop(['id'], axis=1)"
   ]
  },
  {
   "cell_type": "code",
   "execution_count": 724,
   "metadata": {},
   "outputs": [
    {
     "data": {
      "image/png": "[encoded data removed]",
      "text/plain": [
       "<Figure size 601.375x360 with 1 Axes>"
      ]
     },
     "metadata": {
      "needs_background": "light"
     },
     "output_type": "display_data"
    }
   ],
   "source": [
    "Scatterplot_Yearly_Temperature_vs_Precipitation = sns.pairplot(Yearly_Temperature_vs_Precipitation,\n",
    "                 x_vars=[\"Precipitation\"],\n",
    "                 y_vars=[\"Temperature\"], hue = 'year', height=5, aspect=1.5)"
   ]
  },
  {
   "cell_type": "code",
   "execution_count": 563,
   "metadata": {},
   "outputs": [],
   "source": [
    "Scatterplot_Yearly_Temperature_vs_Precipitation.savefig(\"C:/Users/Bhuwan Acharya/Desktop/Geoinformatics_to_send_professor/Python_images/Scatterplot_Yearly_Temperature_vs_Precipitation.png\")"
   ]
  },
  {
   "cell_type": "code",
   "execution_count": 725,
   "metadata": {},
   "outputs": [
    {
     "data": {
      "image/png": "[encoded data removed]",
      "text/plain": [
       "<Figure size 601.375x360 with 1 Axes>"
      ]
     },
     "metadata": {
      "needs_background": "light"
     },
     "output_type": "display_data"
    }
   ],
   "source": [
    "regression_Yearly_Temperature_vs_Precipitation = sns.pairplot(Yearly_Temperature_vs_Precipitation,\n",
    "                 x_vars=[\"Temperature\"],\n",
    "                 y_vars=[\"Precipitation\"], hue = 'year', kind = 'reg', height=5, aspect=1.5)"
   ]
  },
  {
   "cell_type": "code",
   "execution_count": 565,
   "metadata": {},
   "outputs": [],
   "source": [
    "regression_Yearly_Temperature_vs_Precipitation.savefig(\"C:/Users/Bhuwan Acharya/Desktop/Geoinformatics_to_send_professor/Python_images/regression_Yearly_Temperature_vs_Precipitation.png\")"
   ]
  },
  {
   "cell_type": "code",
   "execution_count": 566,
   "metadata": {},
   "outputs": [
    {
     "data": {
      "image/png": "[encoded data removed]",
      "text/plain": [
       "<Figure size 432x288 with 2 Axes>"
      ]
     },
     "metadata": {
      "needs_background": "light"
     },
     "output_type": "display_data"
    }
   ],
   "source": [
    "correlation_Yearly_Temperature_vs_Precipitation = sns.heatmap(Yearly_Temperature_vs_Precipitation.corr(), annot = True)"
   ]
  },
  {
   "cell_type": "code",
   "execution_count": 567,
   "metadata": {},
   "outputs": [],
   "source": [
    "Correlation_P_T_All_year = Yearly_Temperature_vs_Precipitation.corr()"
   ]
  },
  {
   "cell_type": "code",
   "execution_count": 568,
   "metadata": {},
   "outputs": [],
   "source": [
    "Correlation_P_T_All_year.to_csv('C:/Users/Bhuwan Acharya/Desktop/Geoinformatics_to_send_professor/Correlation/Correlation_P_T_All_year.csv')"
   ]
  },
  {
   "cell_type": "code",
   "execution_count": null,
   "metadata": {},
   "outputs": [],
   "source": [
    "# yearly change in temperature, precipitation and NDVI is analysed with respect to year"
   ]
  },
  {
   "cell_type": "code",
   "execution_count": 569,
   "metadata": {},
   "outputs": [],
   "source": [
    "NDVI_vs_PRECIP_2018 = pd.read_csv('C:/Users/Bhuwan Acharya/Desktop/Geoinformatics_to_send_professor/2018/2018_ROI_NDVI_PRECIP.csv')\n",
    "NDVI_vs_PRECIP_with_year_2018 = NDVI_vs_PRECIP_2018.assign(year = ['2018','2018','2018','2018','2018','2018','2018','2018'])\n",
    "NDVI_vs_PRECIP_with_year_2018=NDVI_vs_PRECIP_with_year_2018.rename(columns = {\"2018_NDVI_\" : \"NDVI\", \"2018_PRECI\" : \"Precipitation\"})\n",
    "\n",
    "NDVI_vs_PRECIP_2017 = pd.read_csv('C:/Users/Bhuwan Acharya/Desktop/Geoinformatics_to_send_professor/2017/2017_ROI_NDVI_PRECIP.csv')\n",
    "NDVI_vs_PRECIP_with_year_2017 = NDVI_vs_PRECIP_2017.assign(year = ['2017','2017','2017','2017','2017','2017','2017','2017'])\n",
    "NDVI_vs_PRECIP_with_year_2017=NDVI_vs_PRECIP_with_year_2017.rename(columns = {\"2017_NDVI_\" : \"NDVI\", \"2017_PRECI\" : \"Precipitation\"})\n",
    "\n",
    "NDVI_vs_PRECIP_2016 = pd.read_csv('C:/Users/Bhuwan Acharya/Desktop/Geoinformatics_to_send_professor/2016/2016_ROI_NDVI_PRECIP.csv')\n",
    "NDVI_vs_PRECIP_with_year_2016 = NDVI_vs_PRECIP_2016.assign(year = ['2016','2016','2016','2016','2016','2016','2016','2016'])\n",
    "NDVI_vs_PRECIP_with_year_2016=NDVI_vs_PRECIP_with_year_2016.rename(columns = {\"2016_NDVI_\" : \"NDVI\", \"2016_PRECI\" : \"Precipitation\"})"
   ]
  },
  {
   "cell_type": "code",
   "execution_count": 570,
   "metadata": {},
   "outputs": [],
   "source": [
    "Yearly_PRECI_NDVI = NDVI_vs_PRECIP_with_year_2016.append(NDVI_vs_PRECIP_with_year_2017).append(NDVI_vs_PRECIP_with_year_2018)"
   ]
  },
  {
   "cell_type": "code",
   "execution_count": 571,
   "metadata": {},
   "outputs": [
    {
     "data": {
      "text/html": [
       "<div>\n",
       "<style scoped>\n",
       "    .dataframe tbody tr th:only-of-type {\n",
       "        vertical-align: middle;\n",
       "    }\n",
       "\n",
       "    .dataframe tbody tr th {\n",
       "        vertical-align: top;\n",
       "    }\n",
       "\n",
       "    .dataframe thead th {\n",
       "        text-align: right;\n",
       "    }\n",
       "</style>\n",
       "<table border=\"1\" class=\"dataframe\">\n",
       "  <thead>\n",
       "    <tr style=\"text-align: right;\">\n",
       "      <th></th>\n",
       "      <th>id</th>\n",
       "      <th>NDVI</th>\n",
       "      <th>Precipitation</th>\n",
       "      <th>year</th>\n",
       "    </tr>\n",
       "  </thead>\n",
       "  <tbody>\n",
       "    <tr>\n",
       "      <td>0</td>\n",
       "      <td>1</td>\n",
       "      <td>0.739759</td>\n",
       "      <td>1011.446424</td>\n",
       "      <td>2016</td>\n",
       "    </tr>\n",
       "    <tr>\n",
       "      <td>1</td>\n",
       "      <td>3</td>\n",
       "      <td>0.150977</td>\n",
       "      <td>1046.879300</td>\n",
       "      <td>2016</td>\n",
       "    </tr>\n",
       "    <tr>\n",
       "      <td>2</td>\n",
       "      <td>14</td>\n",
       "      <td>0.821903</td>\n",
       "      <td>1026.570165</td>\n",
       "      <td>2016</td>\n",
       "    </tr>\n",
       "    <tr>\n",
       "      <td>3</td>\n",
       "      <td>17</td>\n",
       "      <td>0.734283</td>\n",
       "      <td>1042.059154</td>\n",
       "      <td>2016</td>\n",
       "    </tr>\n",
       "    <tr>\n",
       "      <td>4</td>\n",
       "      <td>23</td>\n",
       "      <td>0.796000</td>\n",
       "      <td>1044.223361</td>\n",
       "      <td>2016</td>\n",
       "    </tr>\n",
       "    <tr>\n",
       "      <td>5</td>\n",
       "      <td>27</td>\n",
       "      <td>0.750359</td>\n",
       "      <td>1024.547836</td>\n",
       "      <td>2016</td>\n",
       "    </tr>\n",
       "    <tr>\n",
       "      <td>6</td>\n",
       "      <td>34</td>\n",
       "      <td>0.430797</td>\n",
       "      <td>1014.282835</td>\n",
       "      <td>2016</td>\n",
       "    </tr>\n",
       "    <tr>\n",
       "      <td>7</td>\n",
       "      <td>38</td>\n",
       "      <td>0.019121</td>\n",
       "      <td>1039.297243</td>\n",
       "      <td>2016</td>\n",
       "    </tr>\n",
       "    <tr>\n",
       "      <td>0</td>\n",
       "      <td>1</td>\n",
       "      <td>0.807574</td>\n",
       "      <td>809.598460</td>\n",
       "      <td>2017</td>\n",
       "    </tr>\n",
       "    <tr>\n",
       "      <td>1</td>\n",
       "      <td>3</td>\n",
       "      <td>0.179608</td>\n",
       "      <td>867.201708</td>\n",
       "      <td>2017</td>\n",
       "    </tr>\n",
       "    <tr>\n",
       "      <td>2</td>\n",
       "      <td>14</td>\n",
       "      <td>0.850816</td>\n",
       "      <td>835.151957</td>\n",
       "      <td>2017</td>\n",
       "    </tr>\n",
       "    <tr>\n",
       "      <td>3</td>\n",
       "      <td>17</td>\n",
       "      <td>0.173824</td>\n",
       "      <td>859.635621</td>\n",
       "      <td>2017</td>\n",
       "    </tr>\n",
       "    <tr>\n",
       "      <td>4</td>\n",
       "      <td>23</td>\n",
       "      <td>0.855028</td>\n",
       "      <td>863.047832</td>\n",
       "      <td>2017</td>\n",
       "    </tr>\n",
       "    <tr>\n",
       "      <td>5</td>\n",
       "      <td>27</td>\n",
       "      <td>0.549809</td>\n",
       "      <td>831.205064</td>\n",
       "      <td>2017</td>\n",
       "    </tr>\n",
       "    <tr>\n",
       "      <td>6</td>\n",
       "      <td>34</td>\n",
       "      <td>0.456182</td>\n",
       "      <td>813.681060</td>\n",
       "      <td>2017</td>\n",
       "    </tr>\n",
       "    <tr>\n",
       "      <td>7</td>\n",
       "      <td>38</td>\n",
       "      <td>0.010162</td>\n",
       "      <td>855.164839</td>\n",
       "      <td>2017</td>\n",
       "    </tr>\n",
       "    <tr>\n",
       "      <td>0</td>\n",
       "      <td>1</td>\n",
       "      <td>0.777684</td>\n",
       "      <td>792.488253</td>\n",
       "      <td>2018</td>\n",
       "    </tr>\n",
       "    <tr>\n",
       "      <td>1</td>\n",
       "      <td>3</td>\n",
       "      <td>0.780277</td>\n",
       "      <td>792.940746</td>\n",
       "      <td>2018</td>\n",
       "    </tr>\n",
       "    <tr>\n",
       "      <td>2</td>\n",
       "      <td>14</td>\n",
       "      <td>0.829883</td>\n",
       "      <td>790.113282</td>\n",
       "      <td>2018</td>\n",
       "    </tr>\n",
       "    <tr>\n",
       "      <td>3</td>\n",
       "      <td>17</td>\n",
       "      <td>0.827680</td>\n",
       "      <td>793.031209</td>\n",
       "      <td>2018</td>\n",
       "    </tr>\n",
       "    <tr>\n",
       "      <td>4</td>\n",
       "      <td>23</td>\n",
       "      <td>0.146516</td>\n",
       "      <td>793.001960</td>\n",
       "      <td>2018</td>\n",
       "    </tr>\n",
       "    <tr>\n",
       "      <td>5</td>\n",
       "      <td>27</td>\n",
       "      <td>0.789954</td>\n",
       "      <td>791.664245</td>\n",
       "      <td>2018</td>\n",
       "    </tr>\n",
       "    <tr>\n",
       "      <td>6</td>\n",
       "      <td>34</td>\n",
       "      <td>0.444825</td>\n",
       "      <td>790.331949</td>\n",
       "      <td>2018</td>\n",
       "    </tr>\n",
       "    <tr>\n",
       "      <td>7</td>\n",
       "      <td>38</td>\n",
       "      <td>-0.041254</td>\n",
       "      <td>792.231501</td>\n",
       "      <td>2018</td>\n",
       "    </tr>\n",
       "  </tbody>\n",
       "</table>\n",
       "</div>"
      ],
      "text/plain": [
       "   id      NDVI  Precipitation  year\n",
       "0   1  0.739759    1011.446424  2016\n",
       "1   3  0.150977    1046.879300  2016\n",
       "2  14  0.821903    1026.570165  2016\n",
       "3  17  0.734283    1042.059154  2016\n",
       "4  23  0.796000    1044.223361  2016\n",
       "5  27  0.750359    1024.547836  2016\n",
       "6  34  0.430797    1014.282835  2016\n",
       "7  38  0.019121    1039.297243  2016\n",
       "0   1  0.807574     809.598460  2017\n",
       "1   3  0.179608     867.201708  2017\n",
       "2  14  0.850816     835.151957  2017\n",
       "3  17  0.173824     859.635621  2017\n",
       "4  23  0.855028     863.047832  2017\n",
       "5  27  0.549809     831.205064  2017\n",
       "6  34  0.456182     813.681060  2017\n",
       "7  38  0.010162     855.164839  2017\n",
       "0   1  0.777684     792.488253  2018\n",
       "1   3  0.780277     792.940746  2018\n",
       "2  14  0.829883     790.113282  2018\n",
       "3  17  0.827680     793.031209  2018\n",
       "4  23  0.146516     793.001960  2018\n",
       "5  27  0.789954     791.664245  2018\n",
       "6  34  0.444825     790.331949  2018\n",
       "7  38 -0.041254     792.231501  2018"
      ]
     },
     "execution_count": 571,
     "metadata": {},
     "output_type": "execute_result"
    }
   ],
   "source": [
    "Yearly_PRECI_NDVI"
   ]
  },
  {
   "cell_type": "code",
   "execution_count": 713,
   "metadata": {
    "scrolled": true
   },
   "outputs": [
    {
     "data": {
      "image/png": "[encoded data removed]",
      "text/plain": [
       "<Figure size 872x216 with 8 Axes>"
      ]
     },
     "metadata": {
      "needs_background": "light"
     },
     "output_type": "display_data"
    }
   ],
   "source": [
    "Yearly_NDVI = sns.FacetGrid(Yearly_PRECI_NDVI, col=\"id\", aspect = 0.5)\n",
    "Yearly_NDVI.map(plt.scatter, \"year\", \"NDVI\", alpha=.7)\n",
    "Yearly_NDVI.add_legend();"
   ]
  },
  {
   "cell_type": "code",
   "execution_count": 715,
   "metadata": {},
   "outputs": [],
   "source": [
    "Yearly_NDVI.savefig(\"C:/Users/Bhuwan Acharya/Desktop/Geoinformatics_to_send_professor/Python_images/Yearly_NDVI.png\")"
   ]
  },
  {
   "cell_type": "code",
   "execution_count": 714,
   "metadata": {},
   "outputs": [
    {
     "data": {
      "image/png": "[encoded data removed]",
      "text/plain": [
       "<Figure size 872x216 with 8 Axes>"
      ]
     },
     "metadata": {
      "needs_background": "light"
     },
     "output_type": "display_data"
    }
   ],
   "source": [
    "Yearly_PRECIP = sns.FacetGrid(Yearly_PRECI_NDVI, col=\"id\", aspect = 0.5)\n",
    "Yearly_PRECIP.map(plt.scatter, \"year\", \"Precipitation\", alpha=.7)\n",
    "Yearly_PRECIP.add_legend();"
   ]
  },
  {
   "cell_type": "code",
   "execution_count": 797,
   "metadata": {},
   "outputs": [],
   "source": [
    "Yearly_PRECIP.savefig(\"C:/Users/Bhuwan Acharya/Desktop/Geoinformatics_to_send_professor/Python_images/Yearly_PRECIP.png\")"
   ]
  },
  {
   "cell_type": "code",
   "execution_count": 576,
   "metadata": {},
   "outputs": [],
   "source": [
    "NDVI_vs_TEMP_2018 = pd.read_csv('C:/Users/Bhuwan Acharya/Desktop/Geoinformatics_to_send_professor/2018/2018_ROI_NDVI_TEMP.csv')\n",
    "NDVI_vs_TEMP_with_year_2018 = NDVI_vs_TEMP_2018 .assign(year = ['2018','2018','2018','2018','2018','2018','2018','2018'])\n",
    "NDVI_vs_TEMP_with_year_2018 = NDVI_vs_TEMP_with_year_2018.rename(columns = {\"2018_NDVI_\" : \"NDVI\", \"2018_TEMP_\" : \"Temperature\"})\n",
    "\n",
    "NDVI_vs_TEMP_2017 = pd.read_csv('C:/Users/Bhuwan Acharya/Desktop/Geoinformatics_to_send_professor/2017/2017_ROI_NDVI_TEMP.csv')\n",
    "NDVI_vs_TEMP_with_year_2017 = NDVI_vs_TEMP_2017 .assign(year = ['2017','2017','2017','2017','2017','2017','2017','2017'])\n",
    "NDVI_vs_TEMP_with_year_2017 = NDVI_vs_TEMP_with_year_2017.rename(columns = {\"2017_NDVI_\" : \"NDVI\", \"2017_TEMP_\" : \"Temperature\"})\n",
    "\n",
    "NDVI_vs_TEMP_2016 = pd.read_csv('C:/Users/Bhuwan Acharya/Desktop/Geoinformatics_to_send_professor/2016/2016_ROI_NDVI_TEMP.csv')\n",
    "NDVI_vs_TEMP_with_year_2016 = NDVI_vs_TEMP_2016 .assign(year = ['2016','2016','2016','2016','2016','2016','2016','2016'])\n",
    "NDVI_vs_TEMP_with_year_2016 = NDVI_vs_TEMP_with_year_2016.rename(columns = {\"2016_NDVI_\" : \"NDVI\", \"2016_TEMP_\" : \"Temperature\"})"
   ]
  },
  {
   "cell_type": "code",
   "execution_count": 577,
   "metadata": {},
   "outputs": [],
   "source": [
    "Yearly_Temp_vs_NDVI = NDVI_vs_TEMP_with_year_2016 .append(NDVI_vs_TEMP_with_year_2017).append(NDVI_vs_TEMP_with_year_2018)"
   ]
  },
  {
   "cell_type": "code",
   "execution_count": 578,
   "metadata": {},
   "outputs": [
    {
     "data": {
      "text/html": [
       "<div>\n",
       "<style scoped>\n",
       "    .dataframe tbody tr th:only-of-type {\n",
       "        vertical-align: middle;\n",
       "    }\n",
       "\n",
       "    .dataframe tbody tr th {\n",
       "        vertical-align: top;\n",
       "    }\n",
       "\n",
       "    .dataframe thead th {\n",
       "        text-align: right;\n",
       "    }\n",
       "</style>\n",
       "<table border=\"1\" class=\"dataframe\">\n",
       "  <thead>\n",
       "    <tr style=\"text-align: right;\">\n",
       "      <th></th>\n",
       "      <th>id</th>\n",
       "      <th>NDVI</th>\n",
       "      <th>Temperature</th>\n",
       "      <th>year</th>\n",
       "    </tr>\n",
       "  </thead>\n",
       "  <tbody>\n",
       "    <tr>\n",
       "      <td>0</td>\n",
       "      <td>1</td>\n",
       "      <td>0.739759</td>\n",
       "      <td>11.451124</td>\n",
       "      <td>2016</td>\n",
       "    </tr>\n",
       "    <tr>\n",
       "      <td>1</td>\n",
       "      <td>3</td>\n",
       "      <td>0.150977</td>\n",
       "      <td>11.410650</td>\n",
       "      <td>2016</td>\n",
       "    </tr>\n",
       "    <tr>\n",
       "      <td>2</td>\n",
       "      <td>14</td>\n",
       "      <td>0.821903</td>\n",
       "      <td>11.406064</td>\n",
       "      <td>2016</td>\n",
       "    </tr>\n",
       "    <tr>\n",
       "      <td>3</td>\n",
       "      <td>17</td>\n",
       "      <td>0.734283</td>\n",
       "      <td>11.421063</td>\n",
       "      <td>2016</td>\n",
       "    </tr>\n",
       "    <tr>\n",
       "      <td>4</td>\n",
       "      <td>23</td>\n",
       "      <td>0.796000</td>\n",
       "      <td>11.417965</td>\n",
       "      <td>2016</td>\n",
       "    </tr>\n",
       "    <tr>\n",
       "      <td>5</td>\n",
       "      <td>27</td>\n",
       "      <td>0.750359</td>\n",
       "      <td>11.428492</td>\n",
       "      <td>2016</td>\n",
       "    </tr>\n",
       "    <tr>\n",
       "      <td>6</td>\n",
       "      <td>34</td>\n",
       "      <td>0.430797</td>\n",
       "      <td>11.441750</td>\n",
       "      <td>2016</td>\n",
       "    </tr>\n",
       "    <tr>\n",
       "      <td>7</td>\n",
       "      <td>38</td>\n",
       "      <td>0.019121</td>\n",
       "      <td>11.404200</td>\n",
       "      <td>2016</td>\n",
       "    </tr>\n",
       "    <tr>\n",
       "      <td>0</td>\n",
       "      <td>1</td>\n",
       "      <td>0.807574</td>\n",
       "      <td>10.866093</td>\n",
       "      <td>2017</td>\n",
       "    </tr>\n",
       "    <tr>\n",
       "      <td>1</td>\n",
       "      <td>3</td>\n",
       "      <td>0.179608</td>\n",
       "      <td>10.821321</td>\n",
       "      <td>2017</td>\n",
       "    </tr>\n",
       "    <tr>\n",
       "      <td>2</td>\n",
       "      <td>14</td>\n",
       "      <td>0.850816</td>\n",
       "      <td>10.820135</td>\n",
       "      <td>2017</td>\n",
       "    </tr>\n",
       "    <tr>\n",
       "      <td>3</td>\n",
       "      <td>17</td>\n",
       "      <td>0.173824</td>\n",
       "      <td>10.832819</td>\n",
       "      <td>2017</td>\n",
       "    </tr>\n",
       "    <tr>\n",
       "      <td>4</td>\n",
       "      <td>23</td>\n",
       "      <td>0.855028</td>\n",
       "      <td>10.829314</td>\n",
       "      <td>2017</td>\n",
       "    </tr>\n",
       "    <tr>\n",
       "      <td>5</td>\n",
       "      <td>27</td>\n",
       "      <td>0.549809</td>\n",
       "      <td>10.842763</td>\n",
       "      <td>2017</td>\n",
       "    </tr>\n",
       "    <tr>\n",
       "      <td>6</td>\n",
       "      <td>34</td>\n",
       "      <td>0.456182</td>\n",
       "      <td>10.857162</td>\n",
       "      <td>2017</td>\n",
       "    </tr>\n",
       "    <tr>\n",
       "      <td>7</td>\n",
       "      <td>38</td>\n",
       "      <td>0.010162</td>\n",
       "      <td>10.817247</td>\n",
       "      <td>2017</td>\n",
       "    </tr>\n",
       "    <tr>\n",
       "      <td>0</td>\n",
       "      <td>1</td>\n",
       "      <td>0.777684</td>\n",
       "      <td>11.202352</td>\n",
       "      <td>2018</td>\n",
       "    </tr>\n",
       "    <tr>\n",
       "      <td>1</td>\n",
       "      <td>3</td>\n",
       "      <td>0.780277</td>\n",
       "      <td>11.172970</td>\n",
       "      <td>2018</td>\n",
       "    </tr>\n",
       "    <tr>\n",
       "      <td>2</td>\n",
       "      <td>14</td>\n",
       "      <td>0.829883</td>\n",
       "      <td>11.164732</td>\n",
       "      <td>2018</td>\n",
       "    </tr>\n",
       "    <tr>\n",
       "      <td>3</td>\n",
       "      <td>17</td>\n",
       "      <td>0.827680</td>\n",
       "      <td>11.179686</td>\n",
       "      <td>2018</td>\n",
       "    </tr>\n",
       "    <tr>\n",
       "      <td>4</td>\n",
       "      <td>23</td>\n",
       "      <td>0.146516</td>\n",
       "      <td>11.177724</td>\n",
       "      <td>2018</td>\n",
       "    </tr>\n",
       "    <tr>\n",
       "      <td>5</td>\n",
       "      <td>27</td>\n",
       "      <td>0.789954</td>\n",
       "      <td>11.183642</td>\n",
       "      <td>2018</td>\n",
       "    </tr>\n",
       "    <tr>\n",
       "      <td>6</td>\n",
       "      <td>34</td>\n",
       "      <td>0.444825</td>\n",
       "      <td>11.194265</td>\n",
       "      <td>2018</td>\n",
       "    </tr>\n",
       "    <tr>\n",
       "      <td>7</td>\n",
       "      <td>38</td>\n",
       "      <td>-0.041254</td>\n",
       "      <td>11.164550</td>\n",
       "      <td>2018</td>\n",
       "    </tr>\n",
       "  </tbody>\n",
       "</table>\n",
       "</div>"
      ],
      "text/plain": [
       "   id      NDVI  Temperature  year\n",
       "0   1  0.739759    11.451124  2016\n",
       "1   3  0.150977    11.410650  2016\n",
       "2  14  0.821903    11.406064  2016\n",
       "3  17  0.734283    11.421063  2016\n",
       "4  23  0.796000    11.417965  2016\n",
       "5  27  0.750359    11.428492  2016\n",
       "6  34  0.430797    11.441750  2016\n",
       "7  38  0.019121    11.404200  2016\n",
       "0   1  0.807574    10.866093  2017\n",
       "1   3  0.179608    10.821321  2017\n",
       "2  14  0.850816    10.820135  2017\n",
       "3  17  0.173824    10.832819  2017\n",
       "4  23  0.855028    10.829314  2017\n",
       "5  27  0.549809    10.842763  2017\n",
       "6  34  0.456182    10.857162  2017\n",
       "7  38  0.010162    10.817247  2017\n",
       "0   1  0.777684    11.202352  2018\n",
       "1   3  0.780277    11.172970  2018\n",
       "2  14  0.829883    11.164732  2018\n",
       "3  17  0.827680    11.179686  2018\n",
       "4  23  0.146516    11.177724  2018\n",
       "5  27  0.789954    11.183642  2018\n",
       "6  34  0.444825    11.194265  2018\n",
       "7  38 -0.041254    11.164550  2018"
      ]
     },
     "execution_count": 578,
     "metadata": {},
     "output_type": "execute_result"
    }
   ],
   "source": [
    "Yearly_Temp_vs_NDVI"
   ]
  },
  {
   "cell_type": "code",
   "execution_count": 795,
   "metadata": {},
   "outputs": [
    {
     "data": {
      "image/png": "[encoded data removed]",
      "text/plain": [
       "<Figure size 872x216 with 8 Axes>"
      ]
     },
     "metadata": {
      "needs_background": "light"
     },
     "output_type": "display_data"
    }
   ],
   "source": [
    "Yearly_TEMP = sns.FacetGrid(Yearly_Temp_vs_NDVI, col=\"id\", aspect = .5)\n",
    "Yearly_TEMP.map(plt.scatter, \"year\", \"Temperature\", alpha=.7)\n",
    "Yearly_TEMP.add_legend();"
   ]
  },
  {
   "cell_type": "code",
   "execution_count": 796,
   "metadata": {},
   "outputs": [],
   "source": [
    "Yearly_TEMP.savefig(\"C:/Users/Bhuwan Acharya/Desktop/Geoinformatics_to_send_professor/Python_images/Yearly_TEMP.png\")"
   ]
  },
  {
   "cell_type": "code",
   "execution_count": null,
   "metadata": {},
   "outputs": [],
   "source": [
    "#Pixel_wise correlation between NDVI and temperature has been analysed for the year 2018 of the study area 1"
   ]
  },
  {
   "cell_type": "code",
   "execution_count": 744,
   "metadata": {},
   "outputs": [],
   "source": [
    "ROI_1_NDVI_temp_2018_px = pd.read_csv('C:/Users/Bhuwan Acharya/Desktop/Geoinformatics_to_send_professor/try_3_csv.csv')\n"
   ]
  },
  {
   "cell_type": "code",
   "execution_count": 745,
   "metadata": {},
   "outputs": [
    {
     "data": {
      "text/html": [
       "<div>\n",
       "<style scoped>\n",
       "    .dataframe tbody tr th:only-of-type {\n",
       "        vertical-align: middle;\n",
       "    }\n",
       "\n",
       "    .dataframe tbody tr th {\n",
       "        vertical-align: top;\n",
       "    }\n",
       "\n",
       "    .dataframe thead th {\n",
       "        text-align: right;\n",
       "    }\n",
       "</style>\n",
       "<table border=\"1\" class=\"dataframe\">\n",
       "  <thead>\n",
       "    <tr style=\"text-align: right;\">\n",
       "      <th></th>\n",
       "      <th>Longitude</th>\n",
       "      <th>Latitude</th>\n",
       "      <th>Pixel_value_temp</th>\n",
       "      <th>Pixel_value_NDVI</th>\n",
       "    </tr>\n",
       "  </thead>\n",
       "  <tbody>\n",
       "    <tr>\n",
       "      <td>0</td>\n",
       "      <td>6.437343</td>\n",
       "      <td>51.646807</td>\n",
       "      <td>11.1968</td>\n",
       "      <td>0.737508</td>\n",
       "    </tr>\n",
       "    <tr>\n",
       "      <td>1</td>\n",
       "      <td>6.437452</td>\n",
       "      <td>51.646807</td>\n",
       "      <td>11.1968</td>\n",
       "      <td>0.737508</td>\n",
       "    </tr>\n",
       "    <tr>\n",
       "      <td>2</td>\n",
       "      <td>6.437560</td>\n",
       "      <td>51.646807</td>\n",
       "      <td>11.1968</td>\n",
       "      <td>0.713766</td>\n",
       "    </tr>\n",
       "    <tr>\n",
       "      <td>3</td>\n",
       "      <td>6.437669</td>\n",
       "      <td>51.646807</td>\n",
       "      <td>11.1969</td>\n",
       "      <td>0.713761</td>\n",
       "    </tr>\n",
       "    <tr>\n",
       "      <td>4</td>\n",
       "      <td>6.437778</td>\n",
       "      <td>51.646807</td>\n",
       "      <td>11.1969</td>\n",
       "      <td>0.748472</td>\n",
       "    </tr>\n",
       "    <tr>\n",
       "      <td>...</td>\n",
       "      <td>...</td>\n",
       "      <td>...</td>\n",
       "      <td>...</td>\n",
       "      <td>...</td>\n",
       "    </tr>\n",
       "    <tr>\n",
       "      <td>23073</td>\n",
       "      <td>6.450615</td>\n",
       "      <td>51.630828</td>\n",
       "      <td>11.2092</td>\n",
       "      <td>0.835393</td>\n",
       "    </tr>\n",
       "    <tr>\n",
       "      <td>23074</td>\n",
       "      <td>6.450723</td>\n",
       "      <td>51.630828</td>\n",
       "      <td>11.2092</td>\n",
       "      <td>0.813623</td>\n",
       "    </tr>\n",
       "    <tr>\n",
       "      <td>23075</td>\n",
       "      <td>6.450832</td>\n",
       "      <td>51.630828</td>\n",
       "      <td>11.2092</td>\n",
       "      <td>0.813623</td>\n",
       "    </tr>\n",
       "    <tr>\n",
       "      <td>23076</td>\n",
       "      <td>6.450941</td>\n",
       "      <td>51.630828</td>\n",
       "      <td>11.2093</td>\n",
       "      <td>0.803332</td>\n",
       "    </tr>\n",
       "    <tr>\n",
       "      <td>23077</td>\n",
       "      <td>6.451050</td>\n",
       "      <td>51.630828</td>\n",
       "      <td>11.2093</td>\n",
       "      <td>0.841468</td>\n",
       "    </tr>\n",
       "  </tbody>\n",
       "</table>\n",
       "<p>23078 rows × 4 columns</p>\n",
       "</div>"
      ],
      "text/plain": [
       "       Longitude   Latitude  Pixel_value_temp  Pixel_value_NDVI\n",
       "0       6.437343  51.646807           11.1968          0.737508\n",
       "1       6.437452  51.646807           11.1968          0.737508\n",
       "2       6.437560  51.646807           11.1968          0.713766\n",
       "3       6.437669  51.646807           11.1969          0.713761\n",
       "4       6.437778  51.646807           11.1969          0.748472\n",
       "...          ...        ...               ...               ...\n",
       "23073   6.450615  51.630828           11.2092          0.835393\n",
       "23074   6.450723  51.630828           11.2092          0.813623\n",
       "23075   6.450832  51.630828           11.2092          0.813623\n",
       "23076   6.450941  51.630828           11.2093          0.803332\n",
       "23077   6.451050  51.630828           11.2093          0.841468\n",
       "\n",
       "[23078 rows x 4 columns]"
      ]
     },
     "execution_count": 745,
     "metadata": {},
     "output_type": "execute_result"
    }
   ],
   "source": [
    "ROI_1_NDVI_temp_2018_px"
   ]
  },
  {
   "cell_type": "code",
   "execution_count": 746,
   "metadata": {},
   "outputs": [],
   "source": [
    "ROI_1_NDVI_temp_2018_px = ROI_1_NDVI_temp_2018_px.drop(['Longitude', 'Latitude'], axis=1)"
   ]
  },
  {
   "cell_type": "code",
   "execution_count": 747,
   "metadata": {},
   "outputs": [
    {
     "data": {
      "text/html": [
       "<div>\n",
       "<style scoped>\n",
       "    .dataframe tbody tr th:only-of-type {\n",
       "        vertical-align: middle;\n",
       "    }\n",
       "\n",
       "    .dataframe tbody tr th {\n",
       "        vertical-align: top;\n",
       "    }\n",
       "\n",
       "    .dataframe thead th {\n",
       "        text-align: right;\n",
       "    }\n",
       "</style>\n",
       "<table border=\"1\" class=\"dataframe\">\n",
       "  <thead>\n",
       "    <tr style=\"text-align: right;\">\n",
       "      <th></th>\n",
       "      <th>Pixel_value_temp</th>\n",
       "      <th>Pixel_value_NDVI</th>\n",
       "    </tr>\n",
       "  </thead>\n",
       "  <tbody>\n",
       "    <tr>\n",
       "      <td>Pixel_value_temp</td>\n",
       "      <td>1.000000</td>\n",
       "      <td>0.271794</td>\n",
       "    </tr>\n",
       "    <tr>\n",
       "      <td>Pixel_value_NDVI</td>\n",
       "      <td>0.271794</td>\n",
       "      <td>1.000000</td>\n",
       "    </tr>\n",
       "  </tbody>\n",
       "</table>\n",
       "</div>"
      ],
      "text/plain": [
       "                  Pixel_value_temp  Pixel_value_NDVI\n",
       "Pixel_value_temp          1.000000          0.271794\n",
       "Pixel_value_NDVI          0.271794          1.000000"
      ]
     },
     "execution_count": 747,
     "metadata": {},
     "output_type": "execute_result"
    }
   ],
   "source": [
    "ROI_1_NDVI_temp_2018_px.corr('pearson')"
   ]
  },
  {
   "cell_type": "code",
   "execution_count": 748,
   "metadata": {},
   "outputs": [
    {
     "data": {
      "text/plain": [
       "<matplotlib.axes._subplots.AxesSubplot at 0x218e071aac8>"
      ]
     },
     "execution_count": 748,
     "metadata": {},
     "output_type": "execute_result"
    },
    {
     "data": {
      "image/png": "[encoded data removed]",
      "text/plain": [
       "<Figure size 432x288 with 2 Axes>"
      ]
     },
     "metadata": {
      "needs_background": "light"
     },
     "output_type": "display_data"
    }
   ],
   "source": [
    "sns.heatmap(ROI_1_NDVI_temp_2018_px.corr(), annot = True)"
   ]
  },
  {
   "cell_type": "code",
   "execution_count": 740,
   "metadata": {},
   "outputs": [
    {
     "data": {
      "image/png": "[encoded data removed]",
      "text/plain": [
       "<Figure size 777.6x432 with 1 Axes>"
      ]
     },
     "metadata": {
      "needs_background": "light"
     },
     "output_type": "display_data"
    }
   ],
   "source": [
    "scatterplot_pixel_temp_NDVI = sns.pairplot(ROI_1_NDVI_temp_2018_px,\n",
    "                 x_vars=[\"Pixel_value_temp\"],\n",
    "                 y_vars=[\"Pixel_value_NDVI\"],  height=6, aspect=1.8)"
   ]
  },
  {
   "cell_type": "code",
   "execution_count": 741,
   "metadata": {},
   "outputs": [],
   "source": [
    "scatterplot_pixel_temp_NDVI.savefig(\"C:/Users/Bhuwan Acharya/Desktop/Geoinformatics_to_send_professor/Python_images/pixel_ndvi_temp.png\")"
   ]
  },
  {
   "cell_type": "code",
   "execution_count": 742,
   "metadata": {},
   "outputs": [
    {
     "data": {
      "image/png": "[encoded data removed]",
      "text/plain": [
       "<Figure size 540x360 with 1 Axes>"
      ]
     },
     "metadata": {
      "needs_background": "light"
     },
     "output_type": "display_data"
    }
   ],
   "source": [
    "regression_pixel_ndvi_temp = sns.pairplot(ROI_1_NDVI_temp_2018_px,\n",
    "                 x_vars=[\"Pixel_value_temp\"],\n",
    "                 y_vars=[\"Pixel_value_NDVI\"], kind = 'reg',  height=5, aspect=1.5)"
   ]
  },
  {
   "cell_type": "code",
   "execution_count": 743,
   "metadata": {},
   "outputs": [],
   "source": [
    "regression_pixel_ndvi_temp.savefig(\"C:/Users/Bhuwan Acharya/Desktop/Geoinformatics_to_send_professor/Python_images/pixel_ndvi_temp_reg.png\")"
   ]
  },
  {
   "cell_type": "code",
   "execution_count": null,
   "metadata": {},
   "outputs": [],
   "source": [
    "#Pixel_wise correlation between NDVI and temperature has been analysed for the year 2018 of the study area 14"
   ]
  },
  {
   "cell_type": "code",
   "execution_count": 753,
   "metadata": {},
   "outputs": [],
   "source": [
    "ROI_14_NDVI_temp_2018_px = pd.read_csv('C:/Users/Bhuwan Acharya/Desktop/Geoinformatics_to_send_professor/roi_14_ndvi.csv')\n"
   ]
  },
  {
   "cell_type": "code",
   "execution_count": 754,
   "metadata": {},
   "outputs": [
    {
     "data": {
      "text/html": [
       "<div>\n",
       "<style scoped>\n",
       "    .dataframe tbody tr th:only-of-type {\n",
       "        vertical-align: middle;\n",
       "    }\n",
       "\n",
       "    .dataframe tbody tr th {\n",
       "        vertical-align: top;\n",
       "    }\n",
       "\n",
       "    .dataframe thead th {\n",
       "        text-align: right;\n",
       "    }\n",
       "</style>\n",
       "<table border=\"1\" class=\"dataframe\">\n",
       "  <thead>\n",
       "    <tr style=\"text-align: right;\">\n",
       "      <th></th>\n",
       "      <th>Longitude</th>\n",
       "      <th>Latitude</th>\n",
       "      <th>temp</th>\n",
       "      <th>NDVI</th>\n",
       "    </tr>\n",
       "  </thead>\n",
       "  <tbody>\n",
       "    <tr>\n",
       "      <td>0</td>\n",
       "      <td>6.440168</td>\n",
       "      <td>51.701951</td>\n",
       "      <td>11.1625</td>\n",
       "      <td>0.827511</td>\n",
       "    </tr>\n",
       "    <tr>\n",
       "      <td>1</td>\n",
       "      <td>6.440277</td>\n",
       "      <td>51.701951</td>\n",
       "      <td>11.1625</td>\n",
       "      <td>0.813840</td>\n",
       "    </tr>\n",
       "    <tr>\n",
       "      <td>2</td>\n",
       "      <td>6.440386</td>\n",
       "      <td>51.701951</td>\n",
       "      <td>11.1625</td>\n",
       "      <td>0.813840</td>\n",
       "    </tr>\n",
       "    <tr>\n",
       "      <td>3</td>\n",
       "      <td>6.440277</td>\n",
       "      <td>51.701843</td>\n",
       "      <td>11.1626</td>\n",
       "      <td>0.835699</td>\n",
       "    </tr>\n",
       "    <tr>\n",
       "      <td>4</td>\n",
       "      <td>6.440386</td>\n",
       "      <td>51.701843</td>\n",
       "      <td>11.1626</td>\n",
       "      <td>0.835699</td>\n",
       "    </tr>\n",
       "    <tr>\n",
       "      <td>...</td>\n",
       "      <td>...</td>\n",
       "      <td>...</td>\n",
       "      <td>...</td>\n",
       "      <td>...</td>\n",
       "    </tr>\n",
       "    <tr>\n",
       "      <td>2353</td>\n",
       "      <td>6.447992</td>\n",
       "      <td>51.696231</td>\n",
       "      <td>11.1667</td>\n",
       "      <td>0.826938</td>\n",
       "    </tr>\n",
       "    <tr>\n",
       "      <td>2354</td>\n",
       "      <td>6.447666</td>\n",
       "      <td>51.696123</td>\n",
       "      <td>11.1668</td>\n",
       "      <td>0.834407</td>\n",
       "    </tr>\n",
       "    <tr>\n",
       "      <td>2355</td>\n",
       "      <td>6.447774</td>\n",
       "      <td>51.696123</td>\n",
       "      <td>11.1668</td>\n",
       "      <td>0.834407</td>\n",
       "    </tr>\n",
       "    <tr>\n",
       "      <td>2356</td>\n",
       "      <td>6.447883</td>\n",
       "      <td>51.696123</td>\n",
       "      <td>11.1668</td>\n",
       "      <td>0.827914</td>\n",
       "    </tr>\n",
       "    <tr>\n",
       "      <td>2357</td>\n",
       "      <td>6.447992</td>\n",
       "      <td>51.696123</td>\n",
       "      <td>11.1668</td>\n",
       "      <td>0.824681</td>\n",
       "    </tr>\n",
       "  </tbody>\n",
       "</table>\n",
       "<p>2358 rows × 4 columns</p>\n",
       "</div>"
      ],
      "text/plain": [
       "      Longitude   Latitude     temp      NDVI\n",
       "0      6.440168  51.701951  11.1625  0.827511\n",
       "1      6.440277  51.701951  11.1625  0.813840\n",
       "2      6.440386  51.701951  11.1625  0.813840\n",
       "3      6.440277  51.701843  11.1626  0.835699\n",
       "4      6.440386  51.701843  11.1626  0.835699\n",
       "...         ...        ...      ...       ...\n",
       "2353   6.447992  51.696231  11.1667  0.826938\n",
       "2354   6.447666  51.696123  11.1668  0.834407\n",
       "2355   6.447774  51.696123  11.1668  0.834407\n",
       "2356   6.447883  51.696123  11.1668  0.827914\n",
       "2357   6.447992  51.696123  11.1668  0.824681\n",
       "\n",
       "[2358 rows x 4 columns]"
      ]
     },
     "execution_count": 754,
     "metadata": {},
     "output_type": "execute_result"
    }
   ],
   "source": [
    "ROI_14_NDVI_temp_2018_px"
   ]
  },
  {
   "cell_type": "code",
   "execution_count": 755,
   "metadata": {
    "scrolled": true
   },
   "outputs": [],
   "source": [
    "ROI_14_NDVI_temp_2018_px = ROI_14_NDVI_temp_2018_px.drop(['Longitude', 'Latitude'], axis=1)"
   ]
  },
  {
   "cell_type": "code",
   "execution_count": 756,
   "metadata": {},
   "outputs": [
    {
     "data": {
      "text/html": [
       "<div>\n",
       "<style scoped>\n",
       "    .dataframe tbody tr th:only-of-type {\n",
       "        vertical-align: middle;\n",
       "    }\n",
       "\n",
       "    .dataframe tbody tr th {\n",
       "        vertical-align: top;\n",
       "    }\n",
       "\n",
       "    .dataframe thead th {\n",
       "        text-align: right;\n",
       "    }\n",
       "</style>\n",
       "<table border=\"1\" class=\"dataframe\">\n",
       "  <thead>\n",
       "    <tr style=\"text-align: right;\">\n",
       "      <th></th>\n",
       "      <th>temp</th>\n",
       "      <th>NDVI</th>\n",
       "    </tr>\n",
       "  </thead>\n",
       "  <tbody>\n",
       "    <tr>\n",
       "      <td>temp</td>\n",
       "      <td>1.000000</td>\n",
       "      <td>0.049719</td>\n",
       "    </tr>\n",
       "    <tr>\n",
       "      <td>NDVI</td>\n",
       "      <td>0.049719</td>\n",
       "      <td>1.000000</td>\n",
       "    </tr>\n",
       "  </tbody>\n",
       "</table>\n",
       "</div>"
      ],
      "text/plain": [
       "          temp      NDVI\n",
       "temp  1.000000  0.049719\n",
       "NDVI  0.049719  1.000000"
      ]
     },
     "execution_count": 756,
     "metadata": {},
     "output_type": "execute_result"
    }
   ],
   "source": [
    "ROI_14_NDVI_temp_2018_px.corr('pearson')"
   ]
  },
  {
   "cell_type": "code",
   "execution_count": 757,
   "metadata": {},
   "outputs": [
    {
     "data": {
      "text/plain": [
       "<matplotlib.axes._subplots.AxesSubplot at 0x218e1d53bc8>"
      ]
     },
     "execution_count": 757,
     "metadata": {},
     "output_type": "execute_result"
    },
    {
     "data": {
      "image/png": "[encoded data removed]",
      "text/plain": [
       "<Figure size 432x288 with 2 Axes>"
      ]
     },
     "metadata": {
      "needs_background": "light"
     },
     "output_type": "display_data"
    }
   ],
   "source": [
    "sns.heatmap(ROI_14_NDVI_temp_2018_px.corr(), annot = True)"
   ]
  },
  {
   "cell_type": "code",
   "execution_count": 779,
   "metadata": {},
   "outputs": [
    {
     "data": {
      "image/png": "[encoded data removed]",
      "text/plain": [
       "<Figure size 777.6x432 with 1 Axes>"
      ]
     },
     "metadata": {
      "needs_background": "light"
     },
     "output_type": "display_data"
    }
   ],
   "source": [
    "scatterplot_pixel_temp_NDVI_14 = sns.pairplot(ROI_14_NDVI_temp_2018_px,\n",
    "                 x_vars=[\"temp\"],\n",
    "                 y_vars=[\"NDVI\"],  height=6, aspect=1.8)"
   ]
  },
  {
   "cell_type": "code",
   "execution_count": 780,
   "metadata": {},
   "outputs": [],
   "source": [
    "scatterplot_pixel_temp_NDVI_14.savefig(\"C:/Users/Bhuwan Acharya/Desktop/Geoinformatics_to_send_professor/Python_images/pixel_ndvi_temp_roi14.png\")"
   ]
  },
  {
   "cell_type": "code",
   "execution_count": 781,
   "metadata": {},
   "outputs": [
    {
     "data": {
      "image/png": "[encoded data removed]",
      "text/plain": [
       "<Figure size 540x360 with 1 Axes>"
      ]
     },
     "metadata": {
      "needs_background": "light"
     },
     "output_type": "display_data"
    }
   ],
   "source": [
    "regression_pixel_ndvi_temp_14 = sns.pairplot(ROI_14_NDVI_temp_2018_px,\n",
    "                 x_vars=[\"temp\"],\n",
    "                 y_vars=[\"NDVI\"], kind = 'reg',  height=5, aspect=1.5)"
   ]
  },
  {
   "cell_type": "code",
   "execution_count": 783,
   "metadata": {},
   "outputs": [],
   "source": [
    "regression_pixel_ndvi_temp_14.savefig(\"C:/Users/Bhuwan Acharya/Desktop/Geoinformatics_to_send_professor/Python_images/pixel_ndvi_temp_roi14_reg.png\")"
   ]
  },
  {
   "cell_type": "code",
   "execution_count": null,
   "metadata": {},
   "outputs": [],
   "source": [
    "#Pixel_wise correlation between NDVI and temperature has been analysed for the year 2018 of the study area 38"
   ]
  },
  {
   "cell_type": "code",
   "execution_count": 765,
   "metadata": {},
   "outputs": [],
   "source": [
    "ROI_38_NDVI_temp_2018_px = pd.read_csv('C:/Users/Bhuwan Acharya/Desktop/Geoinformatics_to_send_professor/roi_38_ndvi.csv')\n"
   ]
  },
  {
   "cell_type": "code",
   "execution_count": 766,
   "metadata": {},
   "outputs": [
    {
     "data": {
      "text/html": [
       "<div>\n",
       "<style scoped>\n",
       "    .dataframe tbody tr th:only-of-type {\n",
       "        vertical-align: middle;\n",
       "    }\n",
       "\n",
       "    .dataframe tbody tr th {\n",
       "        vertical-align: top;\n",
       "    }\n",
       "\n",
       "    .dataframe thead th {\n",
       "        text-align: right;\n",
       "    }\n",
       "</style>\n",
       "<table border=\"1\" class=\"dataframe\">\n",
       "  <thead>\n",
       "    <tr style=\"text-align: right;\">\n",
       "      <th></th>\n",
       "      <th>Longitude</th>\n",
       "      <th>Latitude</th>\n",
       "      <th>NDVI</th>\n",
       "      <th>temp</th>\n",
       "    </tr>\n",
       "  </thead>\n",
       "  <tbody>\n",
       "    <tr>\n",
       "      <td>0</td>\n",
       "      <td>6.417717</td>\n",
       "      <td>51.705392</td>\n",
       "      <td>0.658367</td>\n",
       "      <td>11.1601</td>\n",
       "    </tr>\n",
       "    <tr>\n",
       "      <td>1</td>\n",
       "      <td>6.417826</td>\n",
       "      <td>51.705392</td>\n",
       "      <td>0.391427</td>\n",
       "      <td>11.1601</td>\n",
       "    </tr>\n",
       "    <tr>\n",
       "      <td>2</td>\n",
       "      <td>6.417935</td>\n",
       "      <td>51.705392</td>\n",
       "      <td>0.391427</td>\n",
       "      <td>11.1601</td>\n",
       "    </tr>\n",
       "    <tr>\n",
       "      <td>3</td>\n",
       "      <td>6.418044</td>\n",
       "      <td>51.705392</td>\n",
       "      <td>0.391427</td>\n",
       "      <td>11.1601</td>\n",
       "    </tr>\n",
       "    <tr>\n",
       "      <td>4</td>\n",
       "      <td>6.418152</td>\n",
       "      <td>51.705392</td>\n",
       "      <td>0.081928</td>\n",
       "      <td>11.1601</td>\n",
       "    </tr>\n",
       "    <tr>\n",
       "      <td>...</td>\n",
       "      <td>...</td>\n",
       "      <td>...</td>\n",
       "      <td>...</td>\n",
       "      <td>...</td>\n",
       "    </tr>\n",
       "    <tr>\n",
       "      <td>11911</td>\n",
       "      <td>6.426095</td>\n",
       "      <td>51.689198</td>\n",
       "      <td>0.743324</td>\n",
       "      <td>11.1699</td>\n",
       "    </tr>\n",
       "    <tr>\n",
       "      <td>11912</td>\n",
       "      <td>6.425986</td>\n",
       "      <td>51.689089</td>\n",
       "      <td>0.618524</td>\n",
       "      <td>11.1700</td>\n",
       "    </tr>\n",
       "    <tr>\n",
       "      <td>11913</td>\n",
       "      <td>6.426095</td>\n",
       "      <td>51.689089</td>\n",
       "      <td>0.752035</td>\n",
       "      <td>11.1700</td>\n",
       "    </tr>\n",
       "    <tr>\n",
       "      <td>11914</td>\n",
       "      <td>6.425986</td>\n",
       "      <td>51.688980</td>\n",
       "      <td>0.667917</td>\n",
       "      <td>11.1701</td>\n",
       "    </tr>\n",
       "    <tr>\n",
       "      <td>11915</td>\n",
       "      <td>6.425986</td>\n",
       "      <td>51.688872</td>\n",
       "      <td>0.748229</td>\n",
       "      <td>11.1701</td>\n",
       "    </tr>\n",
       "  </tbody>\n",
       "</table>\n",
       "<p>11916 rows × 4 columns</p>\n",
       "</div>"
      ],
      "text/plain": [
       "       Longitude   Latitude      NDVI     temp\n",
       "0       6.417717  51.705392  0.658367  11.1601\n",
       "1       6.417826  51.705392  0.391427  11.1601\n",
       "2       6.417935  51.705392  0.391427  11.1601\n",
       "3       6.418044  51.705392  0.391427  11.1601\n",
       "4       6.418152  51.705392  0.081928  11.1601\n",
       "...          ...        ...       ...      ...\n",
       "11911   6.426095  51.689198  0.743324  11.1699\n",
       "11912   6.425986  51.689089  0.618524  11.1700\n",
       "11913   6.426095  51.689089  0.752035  11.1700\n",
       "11914   6.425986  51.688980  0.667917  11.1701\n",
       "11915   6.425986  51.688872  0.748229  11.1701\n",
       "\n",
       "[11916 rows x 4 columns]"
      ]
     },
     "execution_count": 766,
     "metadata": {},
     "output_type": "execute_result"
    }
   ],
   "source": [
    "ROI_38_NDVI_temp_2018_px"
   ]
  },
  {
   "cell_type": "code",
   "execution_count": 767,
   "metadata": {},
   "outputs": [],
   "source": [
    "ROI_38_NDVI_temp_2018_px = ROI_38_NDVI_temp_2018_px.drop(['Longitude', 'Latitude'], axis=1)"
   ]
  },
  {
   "cell_type": "code",
   "execution_count": 768,
   "metadata": {},
   "outputs": [
    {
     "data": {
      "text/plain": [
       "<matplotlib.axes._subplots.AxesSubplot at 0x218e1877948>"
      ]
     },
     "execution_count": 768,
     "metadata": {},
     "output_type": "execute_result"
    },
    {
     "data": {
      "image/png": "[encoded data removed]",
      "text/plain": [
       "<Figure size 432x288 with 2 Axes>"
      ]
     },
     "metadata": {
      "needs_background": "light"
     },
     "output_type": "display_data"
    }
   ],
   "source": [
    "sns.heatmap(ROI_38_NDVI_temp_2018_px.corr(), annot = True)"
   ]
  },
  {
   "cell_type": "code",
   "execution_count": 773,
   "metadata": {},
   "outputs": [
    {
     "data": {
      "image/png": "[encoded data removed]",
      "text/plain": [
       "<Figure size 777.6x432 with 1 Axes>"
      ]
     },
     "metadata": {
      "needs_background": "light"
     },
     "output_type": "display_data"
    }
   ],
   "source": [
    "scatterplot_pixel_temp_NDVI = sns.pairplot(ROI_38_NDVI_temp_2018_px,\n",
    "                 x_vars=[\"temp\"],\n",
    "                 y_vars=[\"NDVI\"],  height=6, aspect=1.8)"
   ]
  },
  {
   "cell_type": "code",
   "execution_count": 774,
   "metadata": {},
   "outputs": [],
   "source": [
    "scatterplot_pixel_temp_NDVI.savefig(\"C:/Users/Bhuwan Acharya/Desktop/Geoinformatics_to_send_professor/Python_images/pixel_ndvi_temp_roi38.png\")"
   ]
  },
  {
   "cell_type": "code",
   "execution_count": 775,
   "metadata": {},
   "outputs": [
    {
     "data": {
      "image/png": "[encoded data removed]",
      "text/plain": [
       "<Figure size 540x360 with 1 Axes>"
      ]
     },
     "metadata": {
      "needs_background": "light"
     },
     "output_type": "display_data"
    }
   ],
   "source": [
    "regression_pixel_ndvi_temp = sns.pairplot(ROI_38_NDVI_temp_2018_px,\n",
    "                 x_vars=[\"temp\"],\n",
    "                 y_vars=[\"NDVI\"], kind = 'reg',  height=5, aspect=1.5)"
   ]
  },
  {
   "cell_type": "code",
   "execution_count": 776,
   "metadata": {},
   "outputs": [],
   "source": [
    "regression_pixel_ndvi_temp.savefig(\"C:/Users/Bhuwan Acharya/Desktop/Geoinformatics_to_send_professor/Python_images/pixel_ndvi_temp_roi38_reg.png\")"
   ]
  },
  {
   "cell_type": "code",
   "execution_count": null,
   "metadata": {},
   "outputs": [],
   "source": []
  }
 ],
 "metadata": {
  "kernelspec": {
   "display_name": "Python 3",
   "language": "python",
   "name": "python3"
  },
  "language_info": {
   "codemirror_mode": {
    "name": "ipython",
    "version": 3
   },
   "file_extension": ".py",
   "mimetype": "text/x-python",
   "name": "python",
   "nbconvert_exporter": "python",
   "pygments_lexer": "ipython3",
   "version": "3.7.4"
  }
 },
 "nbformat": 4,
 "nbformat_minor": 2
}
